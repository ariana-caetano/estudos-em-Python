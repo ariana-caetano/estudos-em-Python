{
 "cells": [
  {
   "cell_type": "markdown",
   "metadata": {},
   "source": [
    "# Fórmula Mágica - Joel Greenblat"
   ]
  },
  {
   "cell_type": "markdown",
   "metadata": {},
   "source": [
    "Joel Greenblatt escreveu um livro (“The Little Book that Beats the Market”), onde explica como os investidores podem aplicar sistematicamente uma fórmula que busca bons negócios quando eles estão disponíveis a preços de pechincha. A essa estratégia deu o nome de Fórmula Mágica.\n",
    "\n",
    "Essa fórmula usa dois indicadores:\n",
    "* ROE – Return on Equity, retorno sobre Patrimônio Líquido;\n",
    "* P/L – índice Preço/Lucro.\n",
    "\n",
    "Baseado nesses indicadores queremos formar um ranking de papéis que possuam o maior ROE e o menor P/L.\n",
    "\n",
    "Essa é a forma bem simplificada, o próprio Greenblat faz algumas ressalvas e sugere o uso dos indicadores ROIC e EV/EBIT para melhorar a fórmula. Mas aqui, para efeito de estudos de desenvolvimento em Python vou me ater a apenas essas duas regras: encontrar os 20 ativos que estejam com o maior ROE e o menor P/L e exibir essa lista.\n",
    "O formato dessa carteira é anual. Ou seja, o investidor compra as ações indicadas hoje e só vai trocar por novas ações no próximo ano."
   ]
  },
  {
   "cell_type": "markdown",
   "metadata": {},
   "source": [
    "#### 1. Buscar os dados no site Fundamentus"
   ]
  },
  {
   "cell_type": "code",
   "execution_count": 7,
   "metadata": {},
   "outputs": [],
   "source": [
    "import yfinance\n",
    "import requests\n",
    "import pandas as pd\n",
    "import numpy as np\n",
    "\n",
    "url = \"https://www.fundamentus.com.br/resultado.php\"\n",
    "headers = {\"User-Agent\": \"Mozilla/5.0 (Windows NT 10.0; Win64; x64) AppleWebKit/537.36 (KHTML, like Gecko) Chrome/100.0.4896.127 Safari/537.36\"}\n",
    "r = requests.get(url, headers=headers)\n",
    "\n",
    "lista = pd.read_html(r.text, decimal=\",\", thousands=\".\")\n",
    "dados = lista[0]"
   ]
  },
  {
   "cell_type": "markdown",
   "metadata": {},
   "source": [
    "#### 2. Tratar os dados\n",
    "\n",
    "Nesta etapa vamos fazer um tratamento nos dados:\n",
    " \n",
    "    * remover as colunas que não vamos utilizar e deixar apenas: Papel, ROE, P/L;\n",
    "    * remover as linhas que tenham P/L muito alto ou negativo (acima de 100 ou abaixo de zero);\n",
    "    * remover as linhas com ROE muito alto ou negativo (acima de 100 ou abaixo de zero);"
   ]
  },
  {
   "cell_type": "code",
   "execution_count": 8,
   "metadata": {},
   "outputs": [],
   "source": [
    "#o site fundamentus também traz os outros indicadores sugeridos pelo Greenblat \n",
    "# ROIC – Quanto maior melhor EV/EBIT – Quanto menor melhor\n",
    "\n",
    "#deletando todas as colunas que não serão utilizadas\n",
    "dados.drop(columns=['Cotação', \n",
    "                    'P/VP', \n",
    "                    'PSR', \n",
    "                    'Div.Yield',\n",
    "                    'P/Ativo',\n",
    "                    'P/Cap.Giro',\n",
    "                    'P/EBIT',\n",
    "                    'P/Ativ Circ.Liq',\n",
    "                    'EV/EBIT',\n",
    "                    'EV/EBITDA',\n",
    "                    'Mrg Ebit',\n",
    "                    'Mrg. Líq.',\n",
    "                    'Liq. Corr.',\n",
    "                    'ROIC',\n",
    "                    'Patrim. Líq',\n",
    "                    'Dív.Brut/ Patrim.',\n",
    "                    'Cresc. Rec.5a'], inplace=True)\n",
    "\n",
    "#tratamento dos dados para remover as distorções\n",
    "#PL negativo ou muito alto\n",
    "indexNames = dados[dados['P/L'] <= 0 ].index\n",
    "dados.drop(indexNames , inplace=True)\n",
    "indexNames = dados[dados['P/L'] >= 100 ].index\n",
    "dados.drop(indexNames , inplace=True)\n",
    "\n",
    "#garantindo que os dados analisados estão em formato numérico\n",
    "#transformando as porcentagens em valores numéricos\n",
    "#não fui em quem criou essa função, mas achei muito boa e resolvi adicionar ao código\n",
    "def columns_which_contains(df, value):\n",
    "    \"\"\"\n",
    "    Serch for DataFrame column's values which contains a specific value\n",
    "    :value: any characters, phrases, symbols\n",
    "    :returns: list of DataFrame column's names\n",
    "    \"\"\"\n",
    "    return [df[column].name for column in df if df[column].astype(str).str.contains(value).any()]\n",
    "\n",
    "percentual_columns = columns_which_contains(dados, '\\%')\n",
    "\n",
    "for column_name in percentual_columns:\n",
    "    dados[column_name] = dados[column_name].str.replace('.', '', regex=True)\n",
    "    dados[column_name] = dados[column_name].str.replace(',', '.', regex=True)\n",
    "    dados[column_name] = dados[column_name].str.replace('[%,]', '', regex=True).astype(float)\n",
    "    dados[column_name] = dados[column_name]/100\n",
    "\n",
    "#ROE negativo ou muito alto\n",
    "#antes da tranformação dos dados do ROE o trecho abaixo dava erro\n",
    "indexNames = dados[dados['ROE'] <= 0 ].index\n",
    "dados.drop(indexNames , inplace=True)\n",
    "indexNames = dados[dados['ROE'] >= 1 ].index\n",
    "dados.drop(indexNames , inplace=True)\n",
    "\n",
    "#vou adicionar também um filtro de liquidez\n",
    "#deixando apenas as ações com liquidez maior que 50000 nos últimos 2 meses\n",
    "indexNames = dados[dados['Liq.2meses'] < 50000].index\n",
    "dados.drop(indexNames , inplace=True)\n"
   ]
  },
  {
   "cell_type": "markdown",
   "metadata": {},
   "source": [
    "#### 3. Ranking\n",
    "\n",
    "Agora, vamos construir um ranking das ações que se enquadram nos critérios.\n",
    "\n",
    "A empresa com o maior ROE recebe a nota 1, a segunda recebe nota 2 e assim por diante. A mesma coisa é feita para o P/L, o menor P/L recebe nota 1, o segundo menor nota 2....\n",
    "\n",
    "A partir dessa notas criaremos uma nova coluna com as notas SOMADAS dos dois indicadores. Aquelas com MENORES notas representam as “melhores” empresas pela combinação dos dois indicadores."
   ]
  },
  {
   "cell_type": "code",
   "execution_count": 9,
   "metadata": {},
   "outputs": [
    {
     "name": "stdout",
     "output_type": "stream",
     "text": [
      "20 ativos - Fórmula Greenblat\n",
      "\n",
      "    Papel   P/L     ROE    Liq.2meses  notaROE  notaPL  somaNotas\n",
      "6   SYNE3  0.73  0.7727  5.956910e+06        6       1          7\n",
      "5   SUZB3  3.09  0.8578  3.721510e+08        5      15         20\n",
      "4   TASA4  3.20  0.8601  2.326890e+07        4      19         23\n",
      "3   TASA3  3.23  0.8601  1.068270e+06        3      21         24\n",
      "26  USIM3  1.29  0.4068  8.780440e+06       26       2         28\n",
      "27  USIM5  1.39  0.4068  2.456890e+08       27       3         30\n",
      "24  ETER3  3.02  0.4182  1.959120e+07       24      12         36\n",
      "9   VALE3  3.46  0.6377  2.683240e+09        9      28         37\n",
      "30  GGBR3  2.31  0.3772  1.439140e+06       30       7         37\n",
      "12  JBSS3  3.40  0.5461  4.411210e+08       12      26         38\n",
      "34  GOAU3  2.18  0.3571  7.233020e+05       34       6         40\n",
      "31  GGBR4  2.92  0.3772  4.008800e+08       31      11         42\n",
      "35  GOAU4  2.33  0.3571  1.067380e+08       35       8         43\n",
      "19  DEXP4  3.36  0.4221  5.521880e+04       19      25         44\n",
      "32  CSNA3  3.08  0.3759  2.455390e+08       32      14         46\n",
      "18  PLPL3  3.58  0.4258  3.054880e+06       18      29         47\n",
      "20  DEXP3  3.44  0.4221  3.240390e+06       20      27         47\n",
      "39  PETR4  2.92  0.3456  2.405000e+09       39      10         49\n",
      "1   UNIP3  4.91  0.8672  3.572570e+06        1      52         53\n",
      "38  PETR3  3.17  0.3456  5.925540e+08       38      18         56\n",
      "2   UNIP6  5.05  0.8672  4.337590e+07        2      56         58\n"
     ]
    }
   ],
   "source": [
    "#ordenação dos dados de forma descendente do ROE\n",
    "dados.sort_values('ROE', ascending=False, inplace=True)\n",
    "\n",
    "#indexando os dados seguindo a ordenação descendente\n",
    "#agora o maior ROE está no índice 0 e o menor ROE está no último índice\n",
    "dados.index = range(0,len(dados))\n",
    "\n",
    "dados[\"notaROE\"] = range(0,len(dados)) \n",
    "\n",
    "#ordenação dos dados de forma ascendente do P/L\n",
    "dados.sort_values('P/L', ascending=True, inplace=True)\n",
    "\n",
    "dados[\"notaPL\"] = range(0,len(dados)) \n",
    "\n",
    "\n",
    "#fazendo a soma das notas\n",
    "\n",
    "dados[\"somaNotas\"] = 0\n",
    "\n",
    "dfd = dados.copy()\n",
    "\n",
    "for i in dfd.index:\n",
    "    dfd.loc[i, 'somaNotas'] = dfd.loc [i, 'notaPL']  + dfd.loc[i, 'notaROE']\n",
    "\n",
    "dfd.sort_values('somaNotas', ascending=True, inplace=True)\n",
    "\n",
    "print(\"20 ativos - Fórmula Greenblat\\n\")\n",
    "print(dfd.iloc[0:21])"
   ]
  },
  {
   "cell_type": "markdown",
   "metadata": {},
   "source": [
    "#### 4. Resultado\n",
    "\n",
    "Esse é o método sistemático e sem influência de nenuma análise um pouco mais refinada. Nem mesmo eu me aprofundei nos indicadores usados na fórmula, se está tudo correto ou não (se alguém quiser contibuir e me corrigir sobre qualquer coisa, fique a vontade).\n",
    "\n",
    "Será que é um bom método usar apenas o ROE e o P/L para nos indicar a compra de ações? Talvez um P/L muito baixo não queira dizer apenas que a empresa esteja muito barata, pode ser que o mercado não tenha confiança na companhia. Assim como um ROE alto pode não significar que os negócios estão rentáveis.\n",
    "\n",
    "Mas Greenblat criou essa Fórmula Mágica e será que ela não é rentável? Que tal um backtest de como seria o desempenho dessa carteira nos útimos anos?\n",
    "Esse será o próximo desafio....\n",
    "\n",
    "![Logo do Markdown](resultado.png)"
   ]
  }
 ],
 "metadata": {
  "interpreter": {
   "hash": "04ccdc40645868801433b6a3e0e7d1fe6c66bf391386034a5a747c686ce77529"
  },
  "kernelspec": {
   "display_name": "Python 3.10.4 64-bit (system)",
   "language": "python",
   "name": "python3"
  },
  "language_info": {
   "codemirror_mode": {
    "name": "ipython",
    "version": 3
   },
   "file_extension": ".py",
   "mimetype": "text/x-python",
   "name": "python",
   "nbconvert_exporter": "python",
   "pygments_lexer": "ipython3",
   "version": "3.10.4"
  },
  "orig_nbformat": 4
 },
 "nbformat": 4,
 "nbformat_minor": 2
}
