{
 "cells": [
  {
   "cell_type": "markdown",
   "metadata": {},
   "source": [
    "# Fórmula Mágica - Joel Greenblat"
   ]
  },
  {
   "cell_type": "markdown",
   "metadata": {},
   "source": [
    "Joel Greenblatt escreveu um livro (“The Little Book that Beats the Market”), onde explica como os investidores podem aplicar sistematicamente uma fórmula que busca bons negócios quando eles estão disponíveis a preços de pechincha. A essa estratégia deu o nome de Fórmula Mágica.\n",
    "\n",
    "Essa fórmula usa dois indicadores:\n",
    "* ROIC\n",
    "* EV/EBIT\n",
    "\n",
    "Baseado nesses indicadores queremos formar um ranking de papéis que possuam o maior EV/EBIT e o maior ROIC.\n",
    "\n",
    "Essa é a forma bem simplificada, o próprio Greenblat faz algumas ressalvas e sugere mais alguns critérios para a escolha dos ativos como: \n",
    "* exclusão de bancos;\n",
    "* empresas de infraestrura (utilities)\n",
    "* empresas com capitalização de mercado inferior a US$ 50 milhões\n",
    "\n",
    "Mas aqui, para efeito de estudos de desenvolvimento em Python vou me ater a apenas essas duas regras: encontrar os 20 ativos que estejam com o maior ROIC e EV/EBIT e exibir essa lista.\n",
    "O formato dessa carteira é anual. Ou seja, o investidor compra as ações indicadas hoje e só vai trocar por novas ações no próximo ano."
   ]
  },
  {
   "cell_type": "markdown",
   "metadata": {},
   "source": [
    "#### 1. Buscar os dados no site Fundamentus"
   ]
  },
  {
   "cell_type": "code",
   "execution_count": 15,
   "metadata": {},
   "outputs": [],
   "source": [
    "import yfinance\n",
    "import requests\n",
    "import pandas as pd\n",
    "import numpy as np\n",
    "\n",
    "url = \"https://www.fundamentus.com.br/resultado.php\"\n",
    "headers = {\"User-Agent\": \"Mozilla/5.0 (Windows NT 10.0; Win64; x64) AppleWebKit/537.36 (KHTML, like Gecko) Chrome/100.0.4896.127 Safari/537.36\"}\n",
    "r = requests.get(url, headers=headers)\n",
    "\n",
    "lista = pd.read_html(r.text, decimal=\",\", thousands=\".\")\n",
    "dados = lista[0]"
   ]
  },
  {
   "cell_type": "markdown",
   "metadata": {},
   "source": [
    "#### 2. Tratar os dados\n",
    "\n",
    "Nesta etapa vamos fazer um tratamento nos dados:\n",
    " \n",
    "    * remover as colunas que não vamos utilizar e deixar apenas: Papel, EV/EBIT, ROIC;\n",
    "    * remover as linhas que tenham EV/EBIT negativo;\n",
    "    * remover as linhas com ROIC negativo;"
   ]
  },
  {
   "cell_type": "code",
   "execution_count": 16,
   "metadata": {},
   "outputs": [],
   "source": [
    "#o site fundamentus também traz os outros indicadores sugeridos pelo Greenblat \n",
    "# ROIC – Quanto maior melhor EV/EBIT – Quanto menor melhor\n",
    "\n",
    "#deletando todas as colunas que não serão utilizadas\n",
    "dados.drop(columns=['Cotação', \n",
    "                    'P/VP', \n",
    "                    'PSR',\n",
    "                    'P/L', \n",
    "                    'Div.Yield',\n",
    "                    'P/Ativo',\n",
    "                    'P/Cap.Giro',\n",
    "                    'P/EBIT',\n",
    "                    'P/Ativ Circ.Liq',\n",
    "                    'EV/EBITDA',\n",
    "                    'Mrg Ebit',\n",
    "                    'Mrg. Líq.',\n",
    "                    'Liq. Corr.',\n",
    "                    'ROE',\n",
    "                    'Patrim. Líq',\n",
    "                    'Dív.Brut/ Patrim.',\n",
    "                    'Cresc. Rec.5a'], inplace=True)\n",
    "\n",
    "#tratamento dos dados para remover as distorções\n",
    "#EV/EBIT negativo \n",
    "#indexNames = dados[dados['ROIC'] <= 0 ].index\n",
    "#dados.drop(indexNames , inplace=True)\n",
    "indexNames = dados[dados['EV/EBIT'] <= 0].index\n",
    "dados.drop(indexNames , inplace=True)\n",
    "\n",
    "#garantindo que os dados analisados estão em formato numérico\n",
    "#transformando as porcentagens em valores numéricos\n",
    "#não fui em quem criou essa função, mas achei muito boa e resolvi adicionar ao código\n",
    "def columns_which_contains(df, value):\n",
    "    \"\"\"\n",
    "    Serch for DataFrame column's values which contains a specific value\n",
    "    :value: any characters, phrases, symbols\n",
    "    :returns: list of DataFrame column's names\n",
    "    \"\"\"\n",
    "    return [df[column].name for column in df if df[column].astype(str).str.contains(value).any()]\n",
    "\n",
    "percentual_columns = columns_which_contains(dados, '\\%')\n",
    "\n",
    "for column_name in percentual_columns:\n",
    "    dados[column_name] = dados[column_name].str.replace('.', '', regex=True)\n",
    "    dados[column_name] = dados[column_name].str.replace(',', '.', regex=True)\n",
    "    dados[column_name] = dados[column_name].str.replace('[%,]', '', regex=True).astype(float)\n",
    "    dados[column_name] = dados[column_name]/100\n",
    "\n",
    "#ROE negativo ou muito alto\n",
    "#antes da tranformação dos dados do ROE o trecho abaixo dava erro\n",
    "indexNames = dados[dados['ROIC'] <= 0 ].index\n",
    "dados.drop(indexNames , inplace=True)\n",
    "#indexNames = dados[dados['ROE'] >= 1 ].index\n",
    "#dados.drop(indexNames , inplace=True)\n",
    "\n",
    "#vou adicionar também um filtro de liquidez\n",
    "#deixando apenas as ações com liquidez maior que 100000 nos últimos 2 meses\n",
    "#seria bom checar qual o nível de liquidez aceitável para o investidor \n",
    "#conseguir entrar e sair do papelo sem problemas\n",
    "indexNames = dados[dados['Liq.2meses'] < 100000].index\n",
    "dados.drop(indexNames , inplace=True)\n"
   ]
  },
  {
   "cell_type": "markdown",
   "metadata": {},
   "source": [
    "#### 3. Ranking\n",
    "\n",
    "Agora, vamos construir um ranking das ações que se enquadram nos critérios.\n",
    "\n",
    "A empresa com o maior ROIC recebe a nota 1, a segunda recebe nota 2 e assim por diante. A mesma coisa é feita para o EV/EBIT.\n",
    "\n",
    "A partir dessa notas criaremos uma nova coluna com as notas SOMADAS dos dois indicadores. Aquelas com MENORES notas representam as “melhores” empresas pela combinação dos dois indicadores."
   ]
  },
  {
   "cell_type": "code",
   "execution_count": 17,
   "metadata": {},
   "outputs": [
    {
     "name": "stdout",
     "output_type": "stream",
     "text": [
      "20 ativos - Fórmula Greenblat\n",
      "\n",
      "     Papel  EV/EBIT    ROIC   Liq.2meses  notaROIC  notaEV/EBIT  somaNotas\n",
      "43   WEGE3    24.36  0.2425  269964000.0        43           28         71\n",
      "33   TFCO4    16.25  0.2921    2505840.0        33           63         96\n",
      "65   INTB3    22.82  0.1870   48898600.0        65           31         96\n",
      "98   ARZZ3    21.92  0.1406   97282000.0        98           33        131\n",
      "70   VIVA3    16.43  0.1733   24923200.0        70           61        131\n",
      "18   ODPV3     8.16  0.3900   14120200.0        18          119        137\n",
      "69   RENT3    14.48  0.1767  368685000.0        69           71        140\n",
      "75   BOAS3    14.74  0.1682    9215890.0        75           68        143\n",
      "16   PRIO3     7.91  0.3965  475940000.0        16          130        146\n",
      "67   VITT3    12.70  0.1846    4782690.0        67           80        147\n",
      "45   SOJA3     9.68  0.2396    6483100.0        45          103        148\n",
      "3    ATOM3     6.81  0.6262     108794.0         3          146        149\n",
      "77   ABEV3    14.20  0.1654  362946000.0        77           73        150\n",
      "17   DMMO3     7.72  0.3902   43871000.0        17          133        150\n",
      "50   BTTL3     9.95  0.2256     395854.0        50          102        152\n",
      "63   B3SA3    11.22  0.1878  578527000.0        63           90        153\n",
      "104  VAMO3    17.72  0.1362   33796600.0       104           53        157\n",
      "46   WHRL4     8.67  0.2346     196906.0        46          112        158\n",
      "28   BLAU3     7.86  0.3229    7616440.0        28          131        159\n",
      "36   CGAS5     8.12  0.2678     381028.0        36          123        159\n"
     ]
    }
   ],
   "source": [
    "#ordenação dos dados de forma descendente do ROIC\n",
    "dados.sort_values('ROIC', ascending=False, inplace=True)\n",
    "\n",
    "#indexando os dados seguindo a ordenação descendente\n",
    "#agora o maior ROIC está no índice 0 e o menor ROIC está no último índice\n",
    "dados.index = range(0,len(dados))\n",
    "\n",
    "dados[\"notaROIC\"] = range(0,len(dados)) \n",
    "\n",
    "#ordenação dos dados de forma descendente do EV/EBIT\n",
    "dados.sort_values('EV/EBIT', ascending=False, inplace=True)\n",
    "\n",
    "dados[\"notaEV/EBIT\"] = range(0,len(dados)) \n",
    "\n",
    "\n",
    "#fazendo a soma das notas\n",
    "\n",
    "dados[\"somaNotas\"] = 0\n",
    "\n",
    "dfd = dados.copy()\n",
    "\n",
    "for i in dfd.index:\n",
    "    dfd.loc[i, 'somaNotas'] = dfd.loc [i, 'notaEV/EBIT']  + dfd.loc[i, 'notaROIC']\n",
    "\n",
    "dfd.sort_values('somaNotas', ascending=True, inplace=True)\n",
    "\n",
    "print(\"20 ativos - Fórmula Greenblat\\n\")\n",
    "print(dfd.iloc[0:20])"
   ]
  },
  {
   "cell_type": "markdown",
   "metadata": {},
   "source": [
    "#### 4. Resultado\n",
    "\n",
    "Esse é o método sistemático e sem influência de nenuma análise um pouco mais refinada. Nem mesmo eu me aprofundei nos indicadores usados na fórmula, se está tudo correto ou não (se alguém quiser contibuir e me corrigir sobre qualquer coisa, fique a vontade).\n",
    "\n",
    "Será que é um bom método usar apenas o ROIC e o EV/EBIT para nos indicar a compra de ações?\n",
    "\n",
    "Mas Greenblat criou essa Fórmula Mágica e será que ela não é rentável? Que tal um backtest de como seria o desempenho dessa carteira nos útimos anos?\n",
    "Esse será o próximo desafio....\n",
    "\n",
    "![Logo do Markdown](resultado.png)"
   ]
  }
 ],
 "metadata": {
  "interpreter": {
   "hash": "04ccdc40645868801433b6a3e0e7d1fe6c66bf391386034a5a747c686ce77529"
  },
  "kernelspec": {
   "display_name": "Python 3.10.4 64-bit (system)",
   "language": "python",
   "name": "python3"
  },
  "language_info": {
   "codemirror_mode": {
    "name": "ipython",
    "version": 3
   },
   "file_extension": ".py",
   "mimetype": "text/x-python",
   "name": "python",
   "nbconvert_exporter": "python",
   "pygments_lexer": "ipython3",
   "version": "3.10.4"
  },
  "orig_nbformat": 4
 },
 "nbformat": 4,
 "nbformat_minor": 2
}
