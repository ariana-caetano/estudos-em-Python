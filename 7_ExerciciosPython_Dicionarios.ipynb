{
  "nbformat": 4,
  "nbformat_minor": 0,
  "metadata": {
    "colab": {
      "provenance": [],
      "authorship_tag": "ABX9TyO8Vp0ePjfWGFeqstgRo2pJ",
      "include_colab_link": true
    },
    "kernelspec": {
      "name": "python3",
      "display_name": "Python 3"
    },
    "language_info": {
      "name": "python"
    }
  },
  "cells": [
    {
      "cell_type": "markdown",
      "metadata": {
        "id": "view-in-github",
        "colab_type": "text"
      },
      "source": [
        "<a href=\"https://colab.research.google.com/github/ariana-caetano/estudos-em-Python/blob/main/7_ExerciciosPython_Dicionarios.ipynb\" target=\"_parent\"><img src=\"https://colab.research.google.com/assets/colab-badge.svg\" alt=\"Open In Colab\"/></a>"
      ]
    },
    {
      "cell_type": "markdown",
      "source": [
        "#Lista de exercícios para praticar dicionários"
      ],
      "metadata": {
        "id": "BEnyycB7riTb"
      }
    },
    {
      "cell_type": "markdown",
      "source": [
        "Uma família é composta por 3 filhos - Deve-se chamar por filho1, filho2, filho3. O retorno será nome, idade, ano_escola, cursos."
      ],
      "metadata": {
        "id": "sZ4ocQ7aAd-i"
      }
    },
    {
      "cell_type": "code",
      "execution_count": null,
      "metadata": {
        "colab": {
          "base_uri": "https://localhost:8080/"
        },
        "id": "P40nyqtTANKG",
        "outputId": "cb8f9edf-af61-4591-8db5-993dbaabd72b"
      },
      "outputs": [
        {
          "output_type": "stream",
          "name": "stdout",
          "text": [
            "fillho1\n",
            "filho2\n",
            "filho3\n"
          ]
        }
      ],
      "source": [
        "familia = {\n",
        "              'filho1':{'nome': 'João', 'idade': 26, 'cursos': ['Python', 'Java', 'HTML'], 'altura': 1.78},\n",
        "              'filho2':{'nome': 'João', 'idade': 26, 'cursos': ['Python', 'Java', 'HTML'], 'altura': 1.78},\n",
        "              'filho3':{'nome': 'João', 'idade': 26, 'cursos': ['Python', 'Java', 'HTML'], 'altura': 1.78}\n",
        "          }\n",
        "   "
      ]
    },
    {
      "cell_type": "markdown",
      "source": [
        "Criar um dicionário carros onde o usuário digite nome, modelo, fabricante, cor e qtd de portas (para N carros)"
      ],
      "metadata": {
        "id": "CWt7cQWnXI-g"
      }
    },
    {
      "cell_type": "code",
      "source": [
        "#resolução 1\n",
        "#dicionário dentro de lista\n",
        "\n",
        "carros = []\n",
        "\n",
        "while(True):\n",
        "  \n",
        "  nome=input(\"Digite o nome do carro: \")\n",
        "  modelo=input(\"Digite o nome do modelo: \")\n",
        "  fabricante=input(\"Digite o nome do fabricante: \")\n",
        "  cor=input(\"Digite a cor: \")\n",
        "  carros.append({'nome': nome, 'modelo': modelo, 'fabricante': fabricante, 'cor': cor})\n",
        "\n",
        "  sair = int(input(\"Digite 0 para sair\"))\n",
        "  if(sair == 0):\n",
        "    break\n",
        "  \n",
        "for i in carros:  \n",
        "  for k, v in i.items():\n",
        "    print(f'{k} = {v}')"
      ],
      "metadata": {
        "id": "27N6BVgwXYwk"
      },
      "execution_count": null,
      "outputs": []
    },
    {
      "cell_type": "code",
      "source": [
        "#resolução 2\n",
        "#dicionário dentro de dicionário\n",
        "\n",
        "carros = {}\n",
        "\n",
        "while True:\n",
        "  c = {}\n",
        "  codigo = input('Digite qual o código do carro: ')\n",
        "  c.update({\n",
        "      'nome': input('Digite o nome do carro: '),\n",
        "      'modelo' :input('Digite o modelo do carro: '),\n",
        "      'fabricante' : input('Digite o fabricante do carro: '),\n",
        "      'cor' : input('Digite a cor do carro: '),\n",
        "      'qtd_portas' : int(input('Digite a quanidade de portas do carro: '))\n",
        "  })\n",
        "  carros.update({codigo:c})\n",
        "  flag = input('Digite s para sair ou outra tecla para continuar: ')\n",
        "  if flag.lower() == 's':\n",
        "    break\n",
        "\n",
        "for k, v in carros.items():\n",
        "  print(f'{k} = {v}')"
      ],
      "metadata": {
        "id": "OkEYbxoarLUd",
        "colab": {
          "base_uri": "https://localhost:8080/"
        },
        "outputId": "9301d935-7b87-4175-ca87-541d3e0a16c9"
      },
      "execution_count": null,
      "outputs": [
        {
          "output_type": "stream",
          "name": "stdout",
          "text": [
            "Digite qual o código do carro: 1\n",
            "Digite o nome do carro: 1\n",
            "Digite o modelo do carro: 1\n",
            "Digite o fabricante do carro: 1\n",
            "Digite a cor do carro: 1\n",
            "Digite a quanidade de portas do carro: 1\n",
            "Digite s para sair ou outra tecla para continuar: s\n",
            "1 = {'nome': '1', 'modelo': '1', 'fabricante': '1', 'cor': '1', 'qtd_portas': 1}\n"
          ]
        }
      ]
    }
  ]
}