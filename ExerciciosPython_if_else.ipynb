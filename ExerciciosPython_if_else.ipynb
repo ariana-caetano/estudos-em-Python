{
  "nbformat": 4,
  "nbformat_minor": 0,
  "metadata": {
    "colab": {
      "provenance": [],
      "authorship_tag": "ABX9TyPq87Li/P4YmHrgqvJs8lcU",
      "include_colab_link": true
    },
    "kernelspec": {
      "name": "python3",
      "display_name": "Python 3"
    },
    "language_info": {
      "name": "python"
    }
  },
  "cells": [
    {
      "cell_type": "markdown",
      "metadata": {
        "id": "view-in-github",
        "colab_type": "text"
      },
      "source": [
        "<a href=\"https://colab.research.google.com/github/ariana-caetano/estudos-em-Python/blob/main/ExerciciosPython_if_else.ipynb\" target=\"_parent\"><img src=\"https://colab.research.google.com/assets/colab-badge.svg\" alt=\"Open In Colab\"/></a>"
      ]
    },
    {
      "cell_type": "markdown",
      "source": [
        "# **Exercícios em Python - Parte 1 (if-else)**"
      ],
      "metadata": {
        "id": "qLKd61jQ-qCx"
      }
    },
    {
      "cell_type": "markdown",
      "source": [
        "#### **1. Receber um nome e realizar a soma de 2 números**"
      ],
      "metadata": {
        "id": "MqfM6Sm4-9ix"
      }
    },
    {
      "cell_type": "code",
      "execution_count": null,
      "metadata": {
        "id": "3rYkBxgO70TX"
      },
      "outputs": [],
      "source": [
        "try:\n",
        "  nome = input(\"Digite um nome: \")\n",
        "  num1 = float(input(\"Digite o primeiro número: \"))\n",
        "  num2 = float(input(\"Digite o segundo número: \"))\n",
        "\n",
        "  print(\"Olá \", nome)\n",
        "  print(\"A soma dos números digitados é: \", num1+num2)\n",
        "except ValueError:\n",
        "  print(\"Atenção: Você não digitou um número!!\")"
      ]
    },
    {
      "cell_type": "markdown",
      "source": [
        "#### **2. Multiplicação de 2 números**\n",
        "\n"
      ],
      "metadata": {
        "id": "6c2nFXSZtrK2"
      }
    },
    {
      "cell_type": "code",
      "source": [
        "\n",
        "try:\n",
        "  num1 = float(input(\"Digite o primeiro número: \"))\n",
        "  num2 = float(input(\"Digite o segundo número: \"))\n",
        "\n",
        "  print(\"O produtos dos números digitados é: \", num1*num2)\n",
        "\n",
        "except ValueError:\n",
        "  print(\"Atenção: Você não digitou um número!!\")"
      ],
      "metadata": {
        "id": "XyDREgW-_fni"
      },
      "execution_count": null,
      "outputs": []
    },
    {
      "cell_type": "markdown",
      "source": [
        "## **If-elif-else**"
      ],
      "metadata": {
        "id": "isKYnuyYAVsY"
      }
    },
    {
      "cell_type": "markdown",
      "source": [
        "#### **1. Verificar se número é maior, menor ou igual a 10**"
      ],
      "metadata": {
        "id": "LXTPmVgm_ds6"
      }
    },
    {
      "cell_type": "code",
      "source": [
        "\n",
        "try:\n",
        "  num1 = int(input(\"Digite um número: \"))\n",
        "  \n",
        "  if(num1 > 10):\n",
        "    print(\"Número digitado é maior que 10\")\n",
        "  elif(num1 < 10):\n",
        "    print(\"Número digitado é menor que 10\")\n",
        "  else:\n",
        "    print(\"Número digitado é igual 10\")\n",
        "\n",
        "except ValueError:\n",
        "  print(\"Atenção: Você não digitou um número inteiro!!\")"
      ],
      "metadata": {
        "id": "-KTkUs_3SOwA"
      },
      "execution_count": null,
      "outputs": []
    },
    {
      "cell_type": "markdown",
      "source": [
        "#### **2. Qual o maior número?**"
      ],
      "metadata": {
        "id": "jky4z0JE_oMT"
      }
    },
    {
      "cell_type": "code",
      "source": [
        "try:\n",
        "  num1 = int(input(\"Digite o primeiro número: \"))\n",
        "  num2 = int(input(\"Digite o segundo número: \"))\n",
        "\n",
        "  if(num1 > num2):\n",
        "    print(\"O maior número é:\", num1)\n",
        "  else:\n",
        "    print(\"O maior número é:\", num2)\n",
        "\n",
        "except ValueError:\n",
        "  print(\"Atenção: Você não digitou um número inteiro!!\")"
      ],
      "metadata": {
        "id": "OvA7eQBhdSP9"
      },
      "execution_count": null,
      "outputs": []
    },
    {
      "cell_type": "markdown",
      "source": [
        "#### **3. Realizar as 4 operações matemáticas**"
      ],
      "metadata": {
        "id": "OkpBXqIA_ydp"
      }
    },
    {
      "cell_type": "code",
      "source": [
        "try:\n",
        "  num1 = float(input(\"Digite o primeiro número: \"))\n",
        "  num2 = float(input(\"Digite o segundo número: \"))\n",
        "\n",
        "  print(\"Soma é: \", num1+num2)\n",
        "  print(\"Subtração é: \", num1-num2)\n",
        "  print(\"Multiplicação é: \", num1*num2)\n",
        "  if(num2 == 0):\n",
        "    print(\"Não é possível a divisão por 0\")\n",
        "  else:\n",
        "    print(\"Divisão é: \", num1/num2)\n",
        "  \n",
        "\n",
        "except ValueError:\n",
        "  print(\"Atenção: Você não digitou um número!!\")"
      ],
      "metadata": {
        "id": "G-g8ebPzeEDc"
      },
      "execution_count": null,
      "outputs": []
    },
    {
      "cell_type": "markdown",
      "source": [
        "#### **4. Verificar se é par ou ímpar**"
      ],
      "metadata": {
        "id": "SbyA8RFp__6R"
      }
    },
    {
      "cell_type": "code",
      "source": [
        "\n",
        "try:\n",
        "  num1 = int(input(\"Digite um número: \"))\n",
        "  \n",
        "  if(num1 % 2 == 0):\n",
        "    print(\"O número é par\")\n",
        "  else:\n",
        "    print(\"O número é ímpar\")\n",
        "\n",
        "except ValueError:\n",
        "  print(\"Atenção: Você não digitou um número inteiro!!\")"
      ],
      "metadata": {
        "id": "GUTbLvxHedAV"
      },
      "execution_count": null,
      "outputs": []
    },
    {
      "cell_type": "markdown",
      "source": [
        "#### **5. Verificar se é positivo, negativo ou zero**"
      ],
      "metadata": {
        "id": "UU0R3lNLAHPg"
      }
    },
    {
      "cell_type": "code",
      "source": [
        "\n",
        "try:\n",
        "  num1 = int(input(\"Digite um número: \"))\n",
        "  \n",
        "  if(num1 == 0):\n",
        "    print(\"O número é igual a 0\")\n",
        "  elif(num1 > 0):\n",
        "    print(\"O número é positivo\")\n",
        "  else:\n",
        "    print(\"O número é negativo\")\n",
        "\n",
        "except ValueError:\n",
        "  print(\"Atenção: Você não digitou um número inteiro!!\")"
      ],
      "metadata": {
        "colab": {
          "base_uri": "https://localhost:8080/"
        },
        "id": "coF1aOcUL9sc",
        "outputId": "675e8121-304d-42d5-d757-bba78f4a665f"
      },
      "execution_count": null,
      "outputs": [
        {
          "output_type": "stream",
          "name": "stdout",
          "text": [
            "Digite um número: 0\n",
            "O número é igual a 0\n"
          ]
        }
      ]
    },
    {
      "cell_type": "markdown",
      "source": [
        "#### **6. Faça um programa que leia duas variáveis A e B com números inteiros. Em seguida inverta os valores de A e B. Exemplo: A = 5, B = 3 , deverá ficar assim: A = 3, B = 5**"
      ],
      "metadata": {
        "id": "lb7-t7DcDKBB"
      }
    },
    {
      "cell_type": "code",
      "source": [
        "varA = int(input(\"Digite o valor de A: \"))\n",
        "varB = int(input(\"Digite o valor de B: \"))\n",
        "\n",
        "aux = varA\n",
        "varA = varB\n",
        "varB = aux\n",
        "\n",
        "print(\"Valores invertidos, A =\", varA, \"e B =\", varB)"
      ],
      "metadata": {
        "id": "rbBLL5IsmNk1",
        "colab": {
          "base_uri": "https://localhost:8080/"
        },
        "outputId": "c1a76f24-6b22-474c-dcaa-47dc5cc8db5e"
      },
      "execution_count": null,
      "outputs": [
        {
          "output_type": "stream",
          "name": "stdout",
          "text": [
            "Digite o valor de A: 5\n",
            "Digite o valor de B: 3\n",
            "Valores invertidos, A= 3 e B= 5\n"
          ]
        }
      ]
    },
    {
      "cell_type": "markdown",
      "source": [
        "#### **7. Faça um programa que pede duas notas de um aluno. Em seguida ele deve calcular a média do aluno e dar o seguinte resultado:**\n",
        "\n",
        "**A mensagem \"Aprovado\", se a média alcançada for maior ou igual a sete;** <br>\n",
        "**A mensagem \"Recuperação\", se a média for menor do que sete;**"
      ],
      "metadata": {
        "id": "cVuX7r4rDe0a"
      }
    },
    {
      "cell_type": "code",
      "source": [
        "nota1 = float(input(\"Digite a primeira nota: \"))\n",
        "nota2 = float(input(\"Digite a segunda nota: \"))\n",
        "\n",
        "media = (nota1+nota2)/2\n",
        "\n",
        "if(media >= 7.0):\n",
        "  print(\"Sua média é:\", media, \"Aprovado\")\n",
        "else:\n",
        "  print(\"Sua média é:\", media, \"Reprovado\")\n"
      ],
      "metadata": {
        "colab": {
          "base_uri": "https://localhost:8080/"
        },
        "id": "fSYfIl9UZI10",
        "outputId": "12d02c35-1fee-4c8b-b5f8-31dcfa004c64"
      },
      "execution_count": null,
      "outputs": [
        {
          "output_type": "stream",
          "name": "stdout",
          "text": [
            "Digite a primeira nota: 3\n",
            "Digite a segunda nota: 5\n",
            "Sua média é: 4.0 Reprovado\n"
          ]
        }
      ]
    },
    {
      "cell_type": "markdown",
      "source": [
        "#### **8. Faça um programa que lê as duas notas parciais obtidas por um aluno numa disciplina ao longo de um semestre, e calcule a sua média. A atribuição de conceitos obedece à tabela abaixo:**\n",
        "\n",
        "|Média de Aproveitamento   | Conceito  | \n",
        "|:-:|:-:|\n",
        "| Entre 9.0 e 10.0  | A  | \n",
        "| Entre 7.5 e 9.0  | B  | \n",
        "| Entre 6.0 e 7.5  |  C | \n",
        "| Entre 4.0 e 6.0 |  D |\n",
        "| Entre 4.0 e zero   |  E |\n",
        "\n",
        "  \n",
        "O algoritmo deve mostrar na tela as notas, a média, o conceito correspondente e a mensagem “APROVADO” se o conceito for A, B ou C ou “REPROVADO” se o conceito for D ou E.\"\"\""
      ],
      "metadata": {
        "id": "lMEYbOVxD5O4"
      }
    },
    {
      "cell_type": "code",
      "source": [
        "nota1 = float(input(\"Digite a primeira nota: \"))\n",
        "nota2 = float(input(\"Digite a segunda nota: \"))\n",
        "\n",
        "media = (nota1+nota2)/2\n",
        "\n",
        "if(media >= 9.0):\n",
        "  print(\"Conceito A:\", media, \"Aprovado\")\n",
        "elif(media < 9.0) and (media >= 7.5):\n",
        "  print(\"Conceito B:\", media, \"Aprovado\")\n",
        "elif(media < 7.5) and (media >= 6.0):\n",
        "  print(\"Conceito C:\", media, \"Aprovado\")\n",
        "elif(media < 6.0) and (media >= 4.0):\n",
        "  print(\"Conceito D:\", media, \"Reprovado\")\n",
        "else:\n",
        "  print(\"Conceito E:\", media, \"Reprovado\")\n"
      ],
      "metadata": {
        "id": "U_OFWkqMZbtr"
      },
      "execution_count": null,
      "outputs": []
    },
    {
      "cell_type": "markdown",
      "source": [
        "#### **9. Faça um Programa que leia 4 números inteiros e mostre o maior deles.**"
      ],
      "metadata": {
        "id": "InpxuiQ8FE1J"
      }
    },
    {
      "cell_type": "code",
      "source": [
        "\n",
        "\n",
        "num1 = int(input(\"Digite o primeiro número: \"))\n",
        "num2 = int(input(\"Digite o segundo número: \"))\n",
        "num3 = int(input(\"Digite o terceiro número: \"))\n",
        "num4 = int(input(\"Digite o quarto número: \"))\n",
        "\n",
        "if(num1>num2):\n",
        "  if(num1>num3):\n",
        "    if(num1>num4):\n",
        "      print(\"O maior número é: \", num1)\n",
        "    else:\n",
        "      print(\"O maior número é: \", num4)\n",
        "  else:\n",
        "    if(num3>num4):\n",
        "      print(\"O maior número é: \", num3)\n",
        "    else:\n",
        "      print(\"O maior número é: \", num4)\n",
        "elif(num2>num3):\n",
        "  if(num2>num4):\n",
        "    print(\"O maior número é: \", num2)\n",
        "  else:\n",
        "    print(\"O maior número é: \", num4)\n",
        "elif(num3>num4):\n",
        "    print(\"O maior número é: \", num3)\n",
        "else:\n",
        "  print(\"O maior número é: \", num4)\n"
      ],
      "metadata": {
        "id": "HcQPPPPeZjQ5"
      },
      "execution_count": null,
      "outputs": []
    },
    {
      "cell_type": "markdown",
      "source": [
        "#### **10. Faça um Programa que pergunte em que turno você estuda. Peça para digitar M-matutino ou V-Vespertino ou N- Noturno. Imprima a mensagem \"Bom Dia!\", \"Boa Tarde!\" ou \"Boa Noite!\" ou \"Valor Inválido!\", conforme o caso.**"
      ],
      "metadata": {
        "id": "HWmTaUkHFSXo"
      }
    },
    {
      "cell_type": "code",
      "source": [
        "\n",
        "\n",
        "turno = input(\"Digite seu turno (M-matutino ou V-Vespertino ou N- Noturno):\")\n",
        "\n",
        "if(turno == \"M\"):\n",
        "  print(\"Bom dia!\")\n",
        "elif(turno == \"V\"):\n",
        "  print(\"Boa tarde!\")\n",
        "elif(turno == \"N\"):\n",
        "  print(\"Boa noite!\")\n",
        "else:\n",
        "  print(\"Valor Inválido!\")\n"
      ],
      "metadata": {
        "colab": {
          "base_uri": "https://localhost:8080/"
        },
        "id": "hTcUSv2xZpPJ",
        "outputId": "a1a3a855-2408-4946-c782-dfc9040461d2"
      },
      "execution_count": null,
      "outputs": [
        {
          "output_type": "stream",
          "name": "stdout",
          "text": [
            "Digite seu turno (M-matutino ou V-Vespertino ou N- Noturno):m\n",
            "Valor Inválido!\n"
          ]
        }
      ]
    },
    {
      "cell_type": "markdown",
      "source": [
        "#### **11. Faça um Programa que peça um número correspondente a um determinado ano e em seguida informe se este ano é ou não bissexto. Para que um ano seja Bissexto ele tem que seguir aos seguintes critérios:**\n",
        "\n",
        "**Ser múltiplo de 4 e não ser múltiplo de 100 ou ser múltiplo de 400.** "
      ],
      "metadata": {
        "id": "jlPl4-W8FbkY"
      }
    },
    {
      "cell_type": "code",
      "source": [
        "ano = int(input(\"Digite o ano: \"))\n",
        "\n",
        "if(ano % 4 == 0 and ano % 100 != 0) or (ano % 400 == 0):\n",
        "  print(\"O ano\", ano, \"é bissexto\")\n",
        "else:\n",
        "  print(f'O ano {ano} não é bissexto')"
      ],
      "metadata": {
        "id": "u_VAgw_0Zurg"
      },
      "execution_count": null,
      "outputs": []
    },
    {
      "cell_type": "markdown",
      "source": [
        "####**12. Um posto está vendendo combustíveis com a seguinte tabela de descontos:** \n",
        "<br>\n",
        "\n",
        "**Álcool: até 20 litros, desconto de 3% por litro acima de 20 litros, desconto de 5% por litro**\n",
        "\n",
        "<br>\n",
        "\n",
        "**Gasolina: até 20 litros, desconto de 4% por litro acima de 20 litros, desconto de 6% por litro**\n",
        "\n",
        "<br>\n",
        "\n",
        "**Escreva um algoritmo que leia o número de litros vendidos,o tipo de combustível (codificado da seguinte forma: A-álcool, G-gasolina), calcule e imprima o valor a ser pago pelo cliente sabendo-se que o preço do litro da gasolina é 5,50 o preço do litro do álcool é 3,90.**"
      ],
      "metadata": {
        "id": "FkV28wM-Fpf4"
      }
    },
    {
      "cell_type": "code",
      "source": [
        "litros = float(input(\"Digite a quantidade de litros (l): \"))\n",
        "tipo_combustivel = input(\"Digite o tipo de combustível (A-álcool, G-gasolina): \")\n",
        "preco_gasolina= 5.5\n",
        "preco_alcool= 3.9\n",
        "\n",
        "\n",
        "if(tipo_combustivel=='G'):\n",
        "  if(litros <= 20):\n",
        "    preco = (preco_gasolina-(preco_gasolina*0.04))*litros\n",
        "    print(f'O preço a ser pago por {litros} litros de {tipo_combustivel} é R$:\", {preco:.2f}')\n",
        "  else:\n",
        "    preco = (preco_gasolina-(preco_gasolina*0.06))*litros\n",
        "    print(f'O preço a ser pago por {litros} litros de {tipo_combustivel} é R$:\", {preco:.2f}')\n",
        "elif(tipo_combustivel=='A'):\n",
        "  if(litros <= 20):\n",
        "    preco = (preco_alcool-(preco_alcool*0.03))*litros\n",
        "    print(f'O preço a ser pago por {litros} litros de {tipo_combustivel} é R$:\", {preco:.2f}')\n",
        "  else:\n",
        "    preco = (preco_alcool-(preco_alcool*0.05))*litros\n",
        "    print(f'O preço a ser pago por {litros} litros de {tipo_combustivel} é R$:\", {preco:.2f}')\n",
        "else:\n",
        "   print(\"Combustível Inválido!\")\n",
        "\n",
        "#posso colocar o print só aqui no final\n",
        "\n"
      ],
      "metadata": {
        "id": "yTyFX39BZ005"
      },
      "execution_count": null,
      "outputs": []
    }
  ]
}