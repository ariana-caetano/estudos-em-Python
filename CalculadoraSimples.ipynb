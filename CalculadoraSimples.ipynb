{
  "nbformat": 4,
  "nbformat_minor": 0,
  "metadata": {
    "colab": {
      "provenance": [],
      "authorship_tag": "ABX9TyP/mzu4XoqtsT/YW1eJHQh/",
      "include_colab_link": true
    },
    "kernelspec": {
      "name": "python3",
      "display_name": "Python 3"
    },
    "language_info": {
      "name": "python"
    }
  },
  "cells": [
    {
      "cell_type": "markdown",
      "metadata": {
        "id": "view-in-github",
        "colab_type": "text"
      },
      "source": [
        "<a href=\"https://colab.research.google.com/github/ariana-caetano/estudos-em-Python/blob/main/CalculadoraSimples.ipynb\" target=\"_parent\"><img src=\"https://colab.research.google.com/assets/colab-badge.svg\" alt=\"Open In Colab\"/></a>"
      ]
    },
    {
      "cell_type": "code",
      "execution_count": null,
      "metadata": {
        "colab": {
          "base_uri": "https://localhost:8080/"
        },
        "id": "3qzZKJHt9yQz",
        "outputId": "81d097e9-d024-4b17-c704-5a14951f7a78"
      },
      "outputs": [
        {
          "output_type": "stream",
          "name": "stdout",
          "text": [
            "Digite uma opção:\n",
            "                1 - Somar\n",
            "                2 - Subtrair\n",
            "                3 - Multiplicar\n",
            "                4 - Dividir\n",
            "                5 - Listar\n",
            "                0 - Sair\n",
            "                5\n",
            "Vantagens do Python:  Python é mara!!\n",
            "Digite uma opção:\n",
            "                1 - Somar\n",
            "                2 - Subtrair\n",
            "                3 - Multiplicar\n",
            "                4 - Dividir\n",
            "                5 - Listar\n",
            "                0 - Sair\n",
            "                0\n",
            "Encerrando aplicação!!\n"
          ]
        }
      ],
      "source": [
        "def somar(a,b):\n",
        "  return (a+b)\n",
        "\n",
        "def subtrair(a,b):\n",
        "  return a-b\n",
        "\n",
        "def multiplicar(a,b):\n",
        "  return a*b\n",
        "\n",
        "def dividir(a,b):\n",
        "  return a/b\n",
        "\n",
        "def listar():\n",
        "  return 'Python é mara!!'\n",
        "\n",
        "def lista_opcoes():\n",
        "  opcao = int(input('''Digite uma opção:\n",
        "                1 - Somar\n",
        "                2 - Subtrair\n",
        "                3 - Multiplicar\n",
        "                4 - Dividir\n",
        "                5 - Listar\n",
        "                0 - Sair\n",
        "                '''))\n",
        "  return opcao\n",
        "\n",
        "opcao = -1;\n",
        "\n",
        "while(opcao!=0):\n",
        "  \n",
        "  opcao = lista_opcoes()\n",
        "\n",
        "  if(opcao == 1):\n",
        "    a = float(input(\"Digite primeiro valor: \"))\n",
        "    b = float(input(\"Digite segundo valor: \"))\n",
        "    print('Soma: ', somar(a,b))\n",
        "  elif(opcao == 2):\n",
        "    a = float(input(\"Digite primeiro valor: \"))\n",
        "    b = float(input(\"Digite segundo valor: \"))\n",
        "    print('Subtração: ', subtrair(a,b))\n",
        "  elif(opcao == 3):\n",
        "    a = float(input(\"Digite primeiro valor: \"))\n",
        "    b = float(input(\"Digite segundo valor: \"))\n",
        "    print('Multiplicação: ', multiplicar(a,b))\n",
        "  elif(opcao == 4):\n",
        "    a = float(input(\"Digite primeiro valor: \"))\n",
        "    b = float(input(\"Digite segundo valor: \"))\n",
        "    print('Divisão: ', dividir(a,b))\n",
        "  elif(opcao == 5):\n",
        "    print('Vantagens do Python: ', listar())\n",
        "\n",
        "print(\"Encerrando aplicação!!\")\n",
        "  \n"
      ]
    }
  ]
}