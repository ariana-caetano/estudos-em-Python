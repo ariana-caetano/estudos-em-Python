{
  "nbformat": 4,
  "nbformat_minor": 0,
  "metadata": {
    "colab": {
      "provenance": [],
      "authorship_tag": "ABX9TyN9HCUrctWf2mLArJSWuioZ",
      "include_colab_link": true
    },
    "kernelspec": {
      "name": "python3",
      "display_name": "Python 3"
    },
    "language_info": {
      "name": "python"
    }
  },
  "cells": [
    {
      "cell_type": "markdown",
      "metadata": {
        "id": "view-in-github",
        "colab_type": "text"
      },
      "source": [
        "<a href=\"https://colab.research.google.com/github/ariana-caetano/estudos-em-Python/blob/main/ExerciciosPython_strings.ipynb\" target=\"_parent\"><img src=\"https://colab.research.google.com/assets/colab-badge.svg\" alt=\"Open In Colab\"/></a>"
      ]
    },
    {
      "cell_type": "markdown",
      "source": [
        "# **Exercícios em Python - Parte 2 (Strings)**"
      ],
      "metadata": {
        "id": "hWfdi5KKzgRp"
      }
    },
    {
      "cell_type": "markdown",
      "source": [
        "#### **1. Crie um programa que compara duas strings e veja se elas são iguais.**"
      ],
      "metadata": {
        "id": "oLdEqL0IGqTY"
      }
    },
    {
      "cell_type": "code",
      "source": [
        "strA = \"teste\"\n",
        "strB = \"TESTE\"\n",
        "\n",
        "#COMPARAÇÃO ORIGINAL\n",
        "\n",
        "if(strA == strB):\n",
        "  print(\"São iguais\")\n",
        "else:\n",
        "  print(\"São diferentes\")\n",
        "\n",
        " #COMPARAÇÃO LOWER OU UPPER\n",
        "\n",
        "if(strA.lower() == strB.lower()):\n",
        "  print(\"São iguais\")\n",
        "else:\n",
        "  print(\"São diferentes\")\n"
      ],
      "metadata": {
        "id": "BIi3xe5lztIY"
      },
      "execution_count": null,
      "outputs": []
    },
    {
      "cell_type": "markdown",
      "source": [
        "####**2. Faça um programa que leia um nome completo e imprima as 4 primeiras letras do nome.**"
      ],
      "metadata": {
        "id": "cTUxkZgHX8Dc"
      }
    },
    {
      "cell_type": "code",
      "source": [
        "nome_completo = input('Digite seu nome completo: ')\n",
        "\n",
        "print(nome_completo[0:4])"
      ],
      "metadata": {
        "id": "YcgTNTdp1M17"
      },
      "execution_count": null,
      "outputs": []
    },
    {
      "cell_type": "markdown",
      "source": [
        "#### **3. Com o mesmo nome da questão 2, agora verifique a quantidade de caracteres que contém o nome digitado.**"
      ],
      "metadata": {
        "id": "5shr3yEaYKJ9"
      }
    },
    {
      "cell_type": "code",
      "source": [
        "print(len(nome_completo))"
      ],
      "metadata": {
        "id": "d7kMbJqb1zg3"
      },
      "execution_count": null,
      "outputs": []
    },
    {
      "cell_type": "markdown",
      "source": [
        "#### **4. Leia uma frase qualquer e verifique se a pessoa digitou a palavra “cachorro” nessa frase (Não importa a maneira como a pessoa escreveu)**"
      ],
      "metadata": {
        "id": "FK1EsmcSYT9C"
      }
    },
    {
      "cell_type": "code",
      "source": [
        "frase = input('Digite uma frase: ').upper()\n",
        "\n",
        "if('CACHORRO' in frase):\n",
        "  print(\"A palavra cahorro está na frase\")\n",
        "else:\n",
        "  print(\"Sua frase não contém a palavra cachorro\")\n"
      ],
      "metadata": {
        "id": "vdNJJj9o2WO_"
      },
      "execution_count": null,
      "outputs": []
    },
    {
      "cell_type": "markdown",
      "source": [
        "#### **5. Crie um programa que leia uma string e mostre a string de trás pra frente até o 6º caractere**"
      ],
      "metadata": {
        "id": "4xa-6M7UYfTG"
      }
    },
    {
      "cell_type": "code",
      "source": [
        "palavra = input('Digite uma palavra: ')\n",
        "\n",
        "if(len(palavra) >= 6):\n",
        "  print(palavra[-1:-7:-1])\n",
        "else:\n",
        "  print('Sua palavra tem menos de 6 letras')"
      ],
      "metadata": {
        "id": "UP3BV76A3Elv"
      },
      "execution_count": null,
      "outputs": []
    },
    {
      "cell_type": "markdown",
      "source": [
        "#### **6. Faça um programa que conte o numero de 1’s que aparecem em um string. Exemplo: ´ 0011001 -> 3**"
      ],
      "metadata": {
        "id": "TXc7tqtcYoQf"
      }
    },
    {
      "cell_type": "code",
      "source": [
        "palavra = input(\"Digite 0's e 1's: \")\n",
        "\n",
        "print(\"Você digitou o número 1\", palavra.count('1'), \"vezes\")\n"
      ],
      "metadata": {
        "id": "6QHlpi0W4R65"
      },
      "execution_count": null,
      "outputs": []
    },
    {
      "cell_type": "markdown",
      "source": [
        "#### **7. Escreva um programa que substitui as ocorrências de um caractere 0 em uma string por ˆ outro caractere 1.**"
      ],
      "metadata": {
        "id": "LgHADlygYvpb"
      }
    },
    {
      "cell_type": "code",
      "source": [
        "palavra = input(\"Digite 0's e 1's: \")\n",
        "\n",
        "print(palavra.replace('0', '1'))"
      ],
      "metadata": {
        "id": "aSFN6sOD5E9_"
      },
      "execution_count": null,
      "outputs": []
    },
    {
      "cell_type": "markdown",
      "source": [
        "#### **8. Faça um programa em que troque todas as ocorrências de uma letra L1 pela letra L2 em ˆ uma string. A string e as letras L1 e L2 devem ser fornecidas pelo usuario.**"
      ],
      "metadata": {
        "id": "TpafNMmMY5jE"
      }
    },
    {
      "cell_type": "code",
      "source": [
        "palavra = input(\"Digite uma palavra: \").lower()\n",
        "letra_L1 = input(\"Digite a letra que você quer remover: \").lower()\n",
        "letra_L2 = input(\"Digite a nova letra: \").lower()\n",
        "\n",
        "print(palavra.replace(letra_L1, letra_L2))\n"
      ],
      "metadata": {
        "id": "XsS7swMG5j7u"
      },
      "execution_count": null,
      "outputs": []
    },
    {
      "cell_type": "markdown",
      "source": [
        "#### **9. Faça um programa que receba duas frases distintas e imprima de maneira invertida, trocando as letras A por *.**"
      ],
      "metadata": {
        "id": "csNoPNO7ZAxs"
      }
    },
    {
      "cell_type": "code",
      "source": [
        "frase1 = input('Digite a primeira frase: ').upper()\n",
        "frase2 = input('Digite a segunda frase: ').upper()\n",
        "\n",
        "frase1_inv = frase1.replace(\"A\", \"*\")[::-1]\n",
        "frase2_inv = frase2.replace(\"A\", \"*\")[::-1]\n",
        "\n",
        "print(frase1_inv)\n",
        "print(frase2_inv)\n"
      ],
      "metadata": {
        "id": "cwTzR68F6ldn"
      },
      "execution_count": null,
      "outputs": []
    }
  ]
}