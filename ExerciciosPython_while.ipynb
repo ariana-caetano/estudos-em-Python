{
  "nbformat": 4,
  "nbformat_minor": 0,
  "metadata": {
    "colab": {
      "provenance": [],
      "authorship_tag": "ABX9TyP6DDwxFNhpJmCi7+dgt1jm",
      "include_colab_link": true
    },
    "kernelspec": {
      "name": "python3",
      "display_name": "Python 3"
    },
    "language_info": {
      "name": "python"
    }
  },
  "cells": [
    {
      "cell_type": "markdown",
      "metadata": {
        "id": "view-in-github",
        "colab_type": "text"
      },
      "source": [
        "<a href=\"https://colab.research.google.com/github/ariana-caetano/estudos-em-Python/blob/main/ExerciciosPython_while.ipynb\" target=\"_parent\"><img src=\"https://colab.research.google.com/assets/colab-badge.svg\" alt=\"Open In Colab\"/></a>"
      ]
    },
    {
      "cell_type": "markdown",
      "source": [
        "# **Exercícios em Python - Parte 3 (While)**"
      ],
      "metadata": {
        "id": "ntWp3oARZQi7"
      }
    },
    {
      "cell_type": "markdown",
      "source": [
        "#### **1. Faça um algoritmo para escrever na tela os números de 0 a 500**"
      ],
      "metadata": {
        "id": "Qa8oXlZxZYnz"
      }
    },
    {
      "cell_type": "code",
      "source": [
        "n=0\n",
        "\n",
        "while n <= 500:\n",
        "  print(n)\n",
        "  n+=1"
      ],
      "metadata": {
        "id": "s2abGvu5xFnG"
      },
      "execution_count": null,
      "outputs": []
    },
    {
      "cell_type": "markdown",
      "source": [
        "#### **2. Faça um algoritmo para escrever na tela os números de 300 a 100 em ordem decrescente**"
      ],
      "metadata": {
        "id": "G8ZxPUNsZir7"
      }
    },
    {
      "cell_type": "code",
      "source": [
        "n=300\n",
        "\n",
        "while n >= 100:\n",
        "  print(n)\n",
        "  n-=1"
      ],
      "metadata": {
        "id": "oCOsp6IKxoSE"
      },
      "execution_count": null,
      "outputs": []
    },
    {
      "cell_type": "markdown",
      "source": [
        "#### **3. Faça um algoritmo para escrever na tela os números que são múltiplos de 4 de 300 a 100, em ordem decrescente**"
      ],
      "metadata": {
        "id": "pwvViop4Zw-D"
      }
    },
    {
      "cell_type": "code",
      "source": [
        "n=300\n",
        "\n",
        "#resolução 1\n",
        "while n >= 100:\n",
        "  if(n % 4 == 0):\n",
        "    print(n)\n",
        "  n-=1\n",
        "\n",
        "#resolução 2\n",
        "# while n >= 100:\n",
        "#   print(n, end=\"-\")\n",
        "#   n-=4\n"
      ],
      "metadata": {
        "id": "5ogfNAt84mNX"
      },
      "execution_count": null,
      "outputs": []
    },
    {
      "cell_type": "markdown",
      "source": [
        "#### **4. Faça um algoritmo que imprima na tela uma sequência de 10 números pares a partir do 1.**"
      ],
      "metadata": {
        "id": "FmlPr9QnaNAL"
      }
    },
    {
      "cell_type": "code",
      "source": [
        "n=2\n",
        "cont=1\n",
        "\n",
        "#resolução 1\n",
        "while cont <= 10:\n",
        "  print(n)\n",
        "  n+=2\n",
        "  cont+=1"
      ],
      "metadata": {
        "id": "n55Am_7J5iFl"
      },
      "execution_count": null,
      "outputs": []
    },
    {
      "cell_type": "code",
      "source": [
        "#resolução 2\n",
        "cont=1\n",
        "while cont <= 20:\n",
        "  cont+=1\n",
        "  print(cont)\n",
        "  cont+=1"
      ],
      "metadata": {
        "id": "kEKNcPGva8q2"
      },
      "execution_count": null,
      "outputs": []
    },
    {
      "cell_type": "code",
      "source": [
        "#resolução 3\n",
        "cont=0\n",
        "while cont <= 18:\n",
        "  cont+=2\n",
        "  print(cont)"
      ],
      "metadata": {
        "id": "C8DliyFwa_6i"
      },
      "execution_count": null,
      "outputs": []
    },
    {
      "cell_type": "markdown",
      "source": [
        "#### **5. Faça um programa que apresente na tela os 10 primeiros números negativos.**"
      ],
      "metadata": {
        "id": "u4ggnaExahW6"
      }
    },
    {
      "cell_type": "code",
      "source": [
        "n=-1\n",
        "\n",
        "while n >= -10:\n",
        "  print(n)\n",
        "  n-=1\n"
      ],
      "metadata": {
        "id": "zsLrEudt5mTc"
      },
      "execution_count": null,
      "outputs": []
    },
    {
      "cell_type": "markdown",
      "source": [
        "#### **6. Faça um algoritmo que leia um número positivo e imprima na tela todos os divisores desse número**"
      ],
      "metadata": {
        "id": "dxKt6aziao6b"
      }
    },
    {
      "cell_type": "code",
      "source": [
        "numero = int(input('Digite um número inteiro positivo: '))\n",
        "cont=1\n",
        "if(numero >0):\n",
        "  print('Os divisores de', numero, 'são:')\n",
        "  while numero >= cont:\n",
        "    if(numero % cont == 0):\n",
        "      print(cont, sep=' ')\n",
        "    cont+=1\n",
        "else:\n",
        "  print('Você não digitou um número positivo')\n"
      ],
      "metadata": {
        "id": "o22UIvUv5n5L"
      },
      "execution_count": null,
      "outputs": []
    },
    {
      "cell_type": "markdown",
      "source": [
        "#### **7. Faça um programa que leia N notas e mostre na tela a média das notas lidas.**"
      ],
      "metadata": {
        "id": "YfktWlDWayZ6"
      }
    },
    {
      "cell_type": "code",
      "source": [
        "#resolução 1\n",
        "qtd_notas = float(input(\"Quantas notas você quer digitar? \"))\n",
        "\n",
        "soma_notas=0\n",
        "cont=1\n",
        "\n",
        "while(qtd_notas>=cont):\n",
        "  nota = float(input(\"Digite nota: \"))\n",
        "  soma_notas+=nota\n",
        "  cont+=1\n",
        "\n",
        "media = (soma_notas)/qtd_notas\n",
        "if(media >= 7.0):\n",
        "  print(\"Sua média é:\", media, \"Aprovado\")\n",
        "else:\n",
        "  print(\"Sua média é:\", media, \"Reprovado\")"
      ],
      "metadata": {
        "id": "bZjBGJfZhu8E"
      },
      "execution_count": null,
      "outputs": []
    },
    {
      "cell_type": "code",
      "source": [
        "#resolução 2\n",
        "continuar = 1\n",
        "soma_notas=0\n",
        "qtd_notas=0\n",
        "  \n",
        "while True:\n",
        "    nota = float(input(\"Digite uma nota: \"))\n",
        "    soma_notas+=nota\n",
        "    qtd_notas+=1\n",
        "\n",
        "    continuar = int(input(\"Deseja continuar? 1-Sim ou 0-Não\"))\n",
        "    if continuar == 0:\n",
        "        break\n",
        "          \n",
        "media = (soma_notas)/qtd_notas\n",
        "if(media >= 7.0):\n",
        "  print(\"Sua média é:\", media, \"Aprovado\")\n",
        "else:\n",
        "  print(\"Sua média é:\", media, \"Reprovado\")"
      ],
      "metadata": {
        "id": "nPk2UrMUSo8u"
      },
      "execution_count": null,
      "outputs": []
    },
    {
      "cell_type": "markdown",
      "source": [
        "#### **8. Escreva um algoritmo que leia um valor inicial A e uma razão R e imprima uma seqüência em P.A. contendo 10 valores.**"
      ],
      "metadata": {
        "id": "ylxgizu8bP9x"
      }
    },
    {
      "cell_type": "code",
      "source": [
        "valor_inicial = int(input(\"Digite o valor inicial \"))\n",
        "razao = int(input(\"Digite a razão \"))\n",
        "\n",
        "cont=9\n",
        "PA=str(valor_inicial)\n",
        "while cont > 0:\n",
        "  valor_inicial+=razao\n",
        "  PA = PA+\",\"+str(valor_inicial)\n",
        "  cont-=1\n",
        "\n",
        "print(PA)"
      ],
      "metadata": {
        "id": "7YhFFnmLkDyU"
      },
      "execution_count": null,
      "outputs": []
    },
    {
      "cell_type": "markdown",
      "source": [
        "#### **9. Escrever um algoritmo que gera e escreve os números ímpares entre 100 e 200.**"
      ],
      "metadata": {
        "id": "Gc-fflEobXnR"
      }
    },
    {
      "cell_type": "code",
      "source": [
        "cont=100\n",
        "while cont < 200:\n",
        "  cont+=1\n",
        "  print(cont)\n",
        "  cont+=1\n"
      ],
      "metadata": {
        "id": "YQBGicjmlGAK"
      },
      "execution_count": null,
      "outputs": []
    },
    {
      "cell_type": "markdown",
      "source": [
        "#### **10. Crie uma tabuada do 1 ao 10 utilizando o comando while. Ex de saída:** \n",
        "<br>\n",
        "\n",
        "**1 x 0 = 0 1 x 1 = 1 1 x 2 = … 1 x 10 = 10**\n",
        "<br>\n",
        "\n",
        "**2 x 0 = 0 2 x 1 = 2 … 2 x 10 = 20**\n",
        "<br>\n",
        "**...**\n",
        "<br>\n",
        "**10 x 0 = 0 10 x 1 = 10 … 10 x 10 = 100**"
      ],
      "metadata": {
        "id": "4n3QYuTubfjL"
      }
    },
    {
      "cell_type": "code",
      "source": [
        "num=0\n",
        "cont=1\n",
        "\n",
        "while(cont<=10):\n",
        "  while(num<=10):\n",
        "    resultado = cont * num\n",
        "    print(cont, \"x\", num, \"=\", resultado)\n",
        "    num+=1\n",
        "  cont+=1\n",
        "  num=0\n",
        "  print(\"___________\")"
      ],
      "metadata": {
        "id": "gSaCUFMTmi7a"
      },
      "execution_count": null,
      "outputs": []
    },
    {
      "cell_type": "markdown",
      "source": [
        "####**11. Desenvolver um algoritmo que leia um número não determinado de valores e calcule e escreva a média aritmética dos valores lidos, a quantidade de valores positivos, a quantidade de valores negativos e o percentual de valores negativos e positivos.**"
      ],
      "metadata": {
        "id": "K4mLlCbQb7D6"
      }
    },
    {
      "cell_type": "code",
      "source": [
        "continuar=\"s\"\n",
        "positivos = 0\n",
        "negativos = 0\n",
        "total=0\n",
        "soma=0\n",
        "while(continuar==\"s\"):\n",
        "  numero = int(input(\"Digite um valor: \"))\n",
        "  soma+=numero\n",
        "  total+=1\n",
        "  if(numero>0):\n",
        "    positivos+=1\n",
        "  if(numero<0):\n",
        "    negativos+=1\n",
        "  continuar = input(\"Deseja continuar? S-Sim ou N-Não\").lower()\n",
        "\n",
        "media=soma/total\n",
        "pct_posit = (positivos*100)/total\n",
        "pct_negat = (negativos*100)/total\n",
        "\n",
        "print(f'A média dos valores é: {media:.2f}')\n",
        "print(f'Quantidade valores positivos: {positivos}')\n",
        "print(f'Quantidade valores negativos: {negativos}')\n",
        "print(f'Percentual de positivos: {pct_posit:.2f} %')\n",
        "print(f'Percentual de negativos: {pct_negat:.2f} %')\n"
      ],
      "metadata": {
        "colab": {
          "base_uri": "https://localhost:8080/"
        },
        "id": "4YGw7weLkvlE",
        "outputId": "d66ccec0-241a-4f71-8091-69cd66dd83ee"
      },
      "execution_count": null,
      "outputs": [
        {
          "output_type": "stream",
          "name": "stdout",
          "text": [
            "Digite um valor: 0\n",
            "Deseja continuar? S-Sim ou N-NãoS\n",
            "Digite um valor: 2\n",
            "Deseja continuar? S-Sim ou N-NãoN\n",
            "A média dos valores é: 1.00\n",
            "Quantidade valores positivos: 1\n",
            "Quantidade valores negativos: 0\n",
            "Percentual de positivos: 50.00 %\n",
            "Percentual de negativos: 0.00 %\n"
          ]
        }
      ]
    },
    {
      "cell_type": "markdown",
      "source": [
        "####**12. Escrever um algoritmo que leia uma quantidade desconhecida de números e conte quantos deles estão nos seguintes intervalos: [0-25], [26-50], [51-75] e [76-100]. A entrada de dados deve terminar quando for lido um número negativo.**"
      ],
      "metadata": {
        "id": "SJDZ36mZcCba"
      }
    },
    {
      "cell_type": "code",
      "source": [
        "continuar=1\n",
        "numero=0\n",
        "num_0_25 = 0\n",
        "num_26_50 = 0\n",
        "num_51_75 = 0\n",
        "num_76_100 = 0\n",
        "\n",
        "while (continuar >= 0) and (continuar <= 100):\n",
        "  numero = int(input(\"Digite um valor entre 0 e 100 (para encerrar digite um número negativo): \"))\n",
        "  \n",
        "  continuar=numero\n",
        "\n",
        "  if(numero>=0) and (numero<=25):\n",
        "    num_0_25+=1\n",
        "  elif(numero>=26) and (numero<=50):\n",
        "    num_26_50+=1\n",
        "  elif(numero>=51) and (numero<=75):\n",
        "    num_51_75+=1\n",
        "  elif(numero>=76) and (numero<=100):\n",
        "    num_76_100+=1\n",
        "  else:\n",
        "   print(\"O valor digitado deve estar entre 0 e 100 (para encerrar digite um número negativo)\")\n",
        " \n",
        "print(\"Quantidade valores [0-25]:\", num_0_25)\n",
        "print(\"Quantidade valores [26-50]:\", num_26_50)\n",
        "print(\"Quantidade valores [51-75]:\", num_51_75)\n",
        "print(\"Quantidade valores [76-100]:\", num_76_100)\n"
      ],
      "metadata": {
        "id": "D1orQRpqpjeS"
      },
      "execution_count": null,
      "outputs": []
    },
    {
      "cell_type": "markdown",
      "source": [
        "####**13. Escreva um algoritmo que leia um valor inicial A e imprima a seqüência de valores do cálculo de A! e o seu resultado. Ex:**\n",
        "<br>\n",
        "\n",
        "**5! = 5 X 4 X 3 X 2 X 1 = 120**"
      ],
      "metadata": {
        "id": "bLY1_zCAcKVB"
      }
    },
    {
      "cell_type": "code",
      "source": [
        "valor_inicial = int(input(\"Digite o valor inicial \"))\n",
        "\n",
        "while(valor_inicial < 0):\n",
        "  valor_inicial = int(input(\"Digite um valor inteiro e positivo: \"))\n",
        "\n",
        "\n",
        "if(valor_inicial < 2):\n",
        "  print(valor_inicial,\"! = 1\")\n",
        "else:\n",
        "  cont=valor_inicial\n",
        "\n",
        "  #apenas para formatar a saída\n",
        "  fat=str(valor_inicial)\n",
        "  fat=fat+\"! = \"+fat\n",
        "\n",
        "  #calcula o fatorial\n",
        "  while cont >= 2:\n",
        "    cont-=1\n",
        "    valor_inicial*=cont\n",
        "    fat = fat+ \" x \" +str(cont)\n",
        "\n",
        "  print(fat + \" =\",valor_inicial)"
      ],
      "metadata": {
        "id": "cmpIawrQsjoC",
        "colab": {
          "base_uri": "https://localhost:8080/"
        },
        "outputId": "0dcfe212-10f5-403b-ccb7-dc93ca65f337"
      },
      "execution_count": null,
      "outputs": [
        {
          "output_type": "stream",
          "name": "stdout",
          "text": [
            "Digite o valor inicial -5\n",
            "Digite um valor inteiro e positivo: 5\n",
            "5! = 5 x 4 x 3 x 2 x 1 = 120\n"
          ]
        }
      ]
    }
  ]
}