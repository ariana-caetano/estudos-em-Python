{
  "nbformat": 4,
  "nbformat_minor": 0,
  "metadata": {
    "colab": {
      "provenance": [],
      "authorship_tag": "ABX9TyNN6nP0GG3RCn5/gmbFBdUm",
      "include_colab_link": true
    },
    "kernelspec": {
      "name": "python3",
      "display_name": "Python 3"
    },
    "language_info": {
      "name": "python"
    }
  },
  "cells": [
    {
      "cell_type": "markdown",
      "metadata": {
        "id": "view-in-github",
        "colab_type": "text"
      },
      "source": [
        "<a href=\"https://colab.research.google.com/github/ariana-caetano/estudos-em-Python/blob/main/5_AtividadeLacosRepeticaoFOR.ipynb\" target=\"_parent\"><img src=\"https://colab.research.google.com/assets/colab-badge.svg\" alt=\"Open In Colab\"/></a>"
      ]
    },
    {
      "cell_type": "markdown",
      "source": [
        "#Lista de exercícios FOR"
      ],
      "metadata": {
        "id": "8vAg-HI4rHs_"
      }
    },
    {
      "cell_type": "markdown",
      "source": [
        "1) Escreva um programa que mostre todos os números entre 5 e 100 que são divisíveis por 7, mas não são múltiplos de 5.\n",
        " Os números obtidos devem ser impressos em sequência."
      ],
      "metadata": {
        "id": "x2SrF56kfwgo"
      }
    },
    {
      "cell_type": "code",
      "source": [
        "for i in range(5, 101, 1):\n",
        "  if(i % 7 == 0) and (i % 5 != 0):\n",
        "    print(i, end=\" \")"
      ],
      "metadata": {
        "id": "BDea9hjNf2oK"
      },
      "execution_count": null,
      "outputs": []
    },
    {
      "cell_type": "markdown",
      "source": [
        "2) Crie um programa que leia 20 números e informe na tela o maior e o menor número lido."
      ],
      "metadata": {
        "id": "pRCLDvT4gjC_"
      }
    },
    {
      "cell_type": "code",
      "source": [
        "maior = 0\n",
        "menor = 0\n",
        "\n",
        "numero = int(input('Digite um número: '))\n",
        "maior = numero\n",
        "menor = numero\n",
        "\n",
        "for i in range(0, 19, 1):\n",
        "  numero = int(input('Digite um número: '))\n",
        "  if(numero > maior):\n",
        "    maior = numero \n",
        "  if(numero < menor):\n",
        "    menor = numero\n",
        "\n",
        "print(f'O maior é {maior} e o menor é {menor}')\n"
      ],
      "metadata": {
        "id": "KYBmODTegmR-"
      },
      "execution_count": null,
      "outputs": []
    },
    {
      "cell_type": "markdown",
      "source": [
        "3)Escreva um programa em python que gera números entre 1000 e 1999 e mostra aqueles que divididos por 11 dão resto 5."
      ],
      "metadata": {
        "id": "LljFDbvIi3ZX"
      }
    },
    {
      "cell_type": "code",
      "source": [
        "for i in range(1000, 2000, 1):\n",
        "  if(i % 11 == 5):\n",
        "    print(i, end=\" \")"
      ],
      "metadata": {
        "id": "kvXffqhei214"
      },
      "execution_count": null,
      "outputs": []
    },
    {
      "cell_type": "markdown",
      "source": [
        "4) Digitados dois números (base e expoente ), calcule o resultado  da potência utilizando apenas operadores básicos\n",
        "da matemática(soma, subtração, multiplicação ou divisão) e o comando FOR;"
      ],
      "metadata": {
        "id": "Jpb5FlUijbeO"
      }
    },
    {
      "cell_type": "code",
      "source": [
        "base = int(input('Digite a base: '))\n",
        "expoente = int(input('Digite o expoente: '))\n",
        "resultado=base\n",
        "\n",
        "for i in range(1, expoente, 1):\n",
        "  resultado*=base\n",
        "\n",
        "print(f'Resultado da potência {base}^{expoente} = {resultado}')"
      ],
      "metadata": {
        "id": "boCOdNoZjcW2"
      },
      "execution_count": null,
      "outputs": []
    },
    {
      "cell_type": "markdown",
      "source": [
        "5) Faça um programa que receba um número positivo digitado pelo usuário e calcule a soma de todos os números de 1 até ao número digitado. Por exemplo, se o usuário inseriu 4, a saída deve ser 10 (1+2+3+4=10)."
      ],
      "metadata": {
        "id": "cyavtBCBm33X"
      }
    },
    {
      "cell_type": "code",
      "source": [
        "numero = int(input('Digite um número positivo: '))\n",
        "while(numero <= 0):\n",
        "  numero = int(input('Digite um número positivo: '))\n",
        "\n",
        "resultado=0\n",
        "for i in range(1, numero+1, 1):\n",
        "  resultado+=i\n",
        "\n",
        "print(f'Resultado da soma: {resultado}')\n"
      ],
      "metadata": {
        "id": "c8YV9MTcm3lv",
        "colab": {
          "base_uri": "https://localhost:8080/"
        },
        "outputId": "bda850a8-15a1-4fc1-d95a-154187b6e86f"
      },
      "execution_count": null,
      "outputs": [
        {
          "output_type": "stream",
          "name": "stdout",
          "text": [
            "Digite um número positivo: 5\n",
            "Resultado da soma: 15\n"
          ]
        }
      ]
    },
    {
      "cell_type": "markdown",
      "source": [
        "6) Faça um programa que leia 10 números inteiros positivos e mostre, no final, a soma dos números pares e a soma dos números ímpares."
      ],
      "metadata": {
        "id": "jTbHvXF_oNJ_"
      }
    },
    {
      "cell_type": "code",
      "source": [
        "soma_par=0\n",
        "soma_impar=0\n",
        "\n",
        "for i in range(10):\n",
        "  numero = int(input('Digite um número: '))\n",
        "  while(numero <= 0):\n",
        "    numero = int(input('Digite um número positivo: '))\n",
        "\n",
        "  if(numero%2==0):\n",
        "    soma_par+=numero   \n",
        "  else:\n",
        "    soma_impar+=numero\n",
        " \n",
        "print(f'A soma dos números pares digitados é: {soma_par}')\n",
        "print(f'A soma dos números ímpares digitados é: {soma_impar}')\n"
      ],
      "metadata": {
        "colab": {
          "base_uri": "https://localhost:8080/"
        },
        "id": "s_afg9PfoJz4",
        "outputId": "562fc7be-1e85-415c-a216-74b7d7bd250f"
      },
      "execution_count": null,
      "outputs": [
        {
          "output_type": "stream",
          "name": "stdout",
          "text": [
            "Digite um número: 2\n",
            "Digite um número: 1\n",
            "A soma dos números pares digitados é: 2\n",
            "A soma dos números ímpares digitados é: 1\n"
          ]
        }
      ]
    },
    {
      "cell_type": "markdown",
      "source": [
        "7) Dado um número n inteiro e positivo, dizemos que n é perfeito se n for igual à soma de seus divisores positivos diferentes de n. Construa um programa em python que verifica se um dado número é perfeito. Ex: 6 é perfeito, pois 1+2+3 = 6."
      ],
      "metadata": {
        "id": "K9p_x5R7pWif"
      }
    },
    {
      "cell_type": "code",
      "source": [
        "numero = int(input('Digite um número: '))\n",
        "while(numero <= 0):\n",
        "  numero = int(input('Digite um número positivo: '))\n",
        "   \n",
        "soma=0\n",
        "soma_impar=0\n",
        "\n",
        "for i in range(1,numero,1):\n",
        "   if(numero % i==0):\n",
        "     soma+=i\n",
        "\n",
        "if(soma==numero):\n",
        "  print(f'O número {numero} é perfeito')\n",
        "else:\n",
        "  print(f'O número {numero} NÃO é perfeito!')\n",
        "\n"
      ],
      "metadata": {
        "colab": {
          "base_uri": "https://localhost:8080/"
        },
        "id": "_oeGwPSIpy0R",
        "outputId": "f4ba769c-ed6f-442e-fdc6-9fb25828db80"
      },
      "execution_count": null,
      "outputs": [
        {
          "output_type": "stream",
          "name": "stdout",
          "text": [
            "Digite um número: 9\n",
            "O número 9 NÃO é perfeito!\n"
          ]
        }
      ]
    },
    {
      "cell_type": "markdown",
      "source": [
        "8) Escreva um programa que leia um valor correspondente ao número de jogadores de um time de vôlei.\n",
        "O programa deverá ler uma altura para cada um dos jogadores e, ao final, informar a altura média do time."
      ],
      "metadata": {
        "id": "AwZdOBHhsUNX"
      }
    },
    {
      "cell_type": "code",
      "source": [
        "texto=\"\\nMÉDIA ALTURA DOS JOGADORES\\n\"\n",
        "\n",
        "qtd_jogadores = int(input('Quantos jogadores existem no time? '))\n",
        "while(qtd_jogadores <= 0):\n",
        "  qtd_jogadores = int(input('Quantos jogadores existem no time? '))\n",
        "\n",
        "soma_altura=0\n",
        "\n",
        "for i in range(qtd_jogadores):\n",
        "\n",
        "  altura = float(input(f'Digite a altura do {i+1}º jogador (em m): '))\n",
        "\n",
        "  while(altura <= 0): \n",
        "    altura = float(input(f'Digite a altura do {i+1}º jogador(em m): '))\n",
        "  \n",
        "  soma_altura+=altura\n",
        "\n",
        "texto += f'_________________________\\n \\nA altura média dos jogadores é: {soma_altura/qtd_jogadores:.2} m'\n",
        "\n",
        "print(texto) "
      ],
      "metadata": {
        "colab": {
          "base_uri": "https://localhost:8080/"
        },
        "id": "Fl3vzlkQsqkn",
        "outputId": "5890636c-9020-4397-e267-80456ba7ff62"
      },
      "execution_count": null,
      "outputs": [
        {
          "output_type": "stream",
          "name": "stdout",
          "text": [
            "Quantos jogadores existem no time? 2\n",
            "Digite a altura do 1º jogador (em m): 1.9852\n",
            "Digite a altura do 2º jogador (em m): 1.456\n",
            "\n",
            "MÉDIA ALTURA DOS JOGADORES\n",
            "_________________________\n",
            " \n",
            "A altura média dos jogadores é: 1.7206000000000001 m\n"
          ]
        }
      ]
    },
    {
      "cell_type": "markdown",
      "source": [
        "9) Escreva um programa em Python que leia um número inteiro positivo e diga se o número informado é primo"
      ],
      "metadata": {
        "id": "VuE094ypwM5B"
      }
    },
    {
      "cell_type": "code",
      "source": [
        "tem_divisores=0\n",
        "\n",
        "numero = int(input('Digite um número: '))\n",
        "while(numero <= 0):\n",
        "  numero = int(input('Digite um número positivo: '))\n",
        "  \n",
        "for i in range(2, numero, 1):\n",
        "  if(numero % i == 0):\n",
        "    tem_divisores+=1\n",
        "\n",
        "if(numero==1):\n",
        "  print(f'O número {numero} NÃO é um número primo')\n",
        "elif(tem_divisores > 0):\n",
        "  print(f'O número {numero} NÃO é um número primo')\n",
        "else:\n",
        "   print(f'O número {numero} é PRIMO')\n"
      ],
      "metadata": {
        "id": "cluQy_2RwLcY"
      },
      "execution_count": null,
      "outputs": []
    },
    {
      "cell_type": "markdown",
      "source": [
        "10) Escreva um algoritmo em python que leia um número N e informe os N primeiros números da sequência de Fibonacci\n",
        "    A sequência é a seguinte: 1 1 2 3 5 8 13 21 34 55 89 …"
      ],
      "metadata": {
        "id": "Nlj6SEKb033w"
      }
    },
    {
      "cell_type": "code",
      "source": [
        "numero = int(input('Quantos números você deseja na sequência de Fibonacci? '))\n",
        "while(numero <= 0):\n",
        "  numero = int(input('Digite um número positivo: '))\n",
        "\n",
        "fibonacci='1' \n",
        "anterior=0\n",
        "atual=1\n",
        "soma=0 \n",
        "\n",
        "for i in range(0, numero-1, 1):\n",
        "  soma=anterior+atual\n",
        "  anterior=atual\n",
        "  atual=soma\n",
        "  fibonacci+= ', ' + str(soma)\n",
        "\n",
        "print(f'A sequência de fibonacci é: {fibonacci}')"
      ],
      "metadata": {
        "colab": {
          "base_uri": "https://localhost:8080/"
        },
        "id": "MoA8Lgtz1CWQ",
        "outputId": "418cb7ea-f563-4dfb-d536-e35b1b28231b"
      },
      "execution_count": null,
      "outputs": [
        {
          "output_type": "stream",
          "name": "stdout",
          "text": [
            "Quantos números você deseja na sequência de Fibonacci? 10\n",
            "A sequência de fibonacci é: 1, 1, 2, 3, 5, 8, 13, 21, 34, 55\n"
          ]
        }
      ]
    }
  ]
}