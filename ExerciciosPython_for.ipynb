{
  "nbformat": 4,
  "nbformat_minor": 0,
  "metadata": {
    "colab": {
      "provenance": [],
      "authorship_tag": "ABX9TyP5Q42srEBfysVHIsBD32Qy",
      "include_colab_link": true
    },
    "kernelspec": {
      "name": "python3",
      "display_name": "Python 3"
    },
    "language_info": {
      "name": "python"
    }
  },
  "cells": [
    {
      "cell_type": "markdown",
      "metadata": {
        "id": "view-in-github",
        "colab_type": "text"
      },
      "source": [
        "<a href=\"https://colab.research.google.com/github/ariana-caetano/estudos-em-Python/blob/main/ExerciciosPython_for.ipynb\" target=\"_parent\"><img src=\"https://colab.research.google.com/assets/colab-badge.svg\" alt=\"Open In Colab\"/></a>"
      ]
    },
    {
      "cell_type": "markdown",
      "source": [
        "# **Exercícios em Python - Parte 4 (For)**"
      ],
      "metadata": {
        "id": "plJfqw3Aos6J"
      }
    },
    {
      "cell_type": "markdown",
      "source": [
        "#### **1. Crie um programa em Python que escreva na tela os números de 250 a 120 em ordem decrescente.**"
      ],
      "metadata": {
        "id": "p0HvbGIlqQVO"
      }
    },
    {
      "cell_type": "code",
      "source": [
        "for i in range(250, 119, -1):\n",
        "  print(i, end=\" \")"
      ],
      "metadata": {
        "id": "1xstkH4eqZ3f"
      },
      "execution_count": null,
      "outputs": []
    },
    {
      "cell_type": "markdown",
      "source": [
        "#### **2. Crie um programa em Python que escreva na tela os números de 1000 a 1500 em ordem crescente.**"
      ],
      "metadata": {
        "id": "tZMQcPRir3T3"
      }
    },
    {
      "cell_type": "code",
      "source": [
        "for i in range(1000, 1501, 1):\n",
        "  print(i, end=\" \")"
      ],
      "metadata": {
        "id": "Z8TLfRTGsKW-"
      },
      "execution_count": null,
      "outputs": []
    },
    {
      "cell_type": "markdown",
      "source": [
        "#### **3. Crie um programa em Python que escreva na tela os números de 150 a 1000 em ordem crescente que são múltiplos de 3.**"
      ],
      "metadata": {
        "id": "6lRW2M2nr7V-"
      }
    },
    {
      "cell_type": "code",
      "source": [
        "#resolução 1\n",
        "for i in range(150, 1000, 1):\n",
        "  if(i % 3 == 0):\n",
        "    print(i, end=\" \")"
      ],
      "metadata": {
        "id": "wl9TZAtRsTRW"
      },
      "execution_count": null,
      "outputs": []
    },
    {
      "cell_type": "code",
      "source": [
        "#resolução 2\n",
        "for i in range(150, 1000, 3):\n",
        "  print(i, end=\" \")"
      ],
      "metadata": {
        "id": "d2_YZS6bsvGd"
      },
      "execution_count": null,
      "outputs": []
    },
    {
      "cell_type": "markdown",
      "source": [
        "#### **4. Crie um programa em Python que escreva na tela os números de 10 a N que são múltiplos de 4, onde o N é informado pelo usuário e deve ser maior que 10.**"
      ],
      "metadata": {
        "id": "UWzHLt4xxISv"
      }
    },
    {
      "cell_type": "code",
      "source": [
        "numero = int(input('Digite um número maior que 10: '))\n",
        "\n",
        "contador = 0\n",
        "\n",
        "while(numero <= 10):\n",
        "  numero = int(input('Digite um número maior que 10: '))\n",
        "\n",
        "for i in range(10, numero, 1):\n",
        "  if(i % 4 == 0):\n",
        "    print(i, end=' ')\n",
        "    contador+=1\n",
        "if(contador == 0):\n",
        "  print(f'Não há múltiplos de 4 entre 10 e {numero}')"
      ],
      "metadata": {
        "id": "cEspu9LsxTdw"
      },
      "execution_count": null,
      "outputs": []
    },
    {
      "cell_type": "markdown",
      "source": [
        "#### **5. Em uma turma há 10 alunos. Cada aluno tem 2 notas. Um professor precisa calcular a média das duas notas de cada aluno. Crie um programa que resolva este problema.**"
      ],
      "metadata": {
        "id": "hUDdVyE_0F3f"
      }
    },
    {
      "cell_type": "code",
      "source": [
        "#resolução 1\n",
        "for i in range(10):\n",
        "  nome_do_aluno = input('Nome do aluno: ')\n",
        "  nota1 = float(input('Digite a primeira nota: '))\n",
        "  nota2 = float(input('Digite a segunda nota: '))\n",
        "  print(f'{i+1} - A média do aluno {nome_do_aluno} é: {(nota1+nota2)/2}')"
      ],
      "metadata": {
        "id": "HiREnY680sJv"
      },
      "execution_count": null,
      "outputs": []
    },
    {
      "cell_type": "code",
      "source": [
        "#resolução 2\n",
        "texto=\"\\nMÉDIA DOS ALUNOS\\n\"\n",
        "\n",
        "for i in range(10):\n",
        "  nome_do_aluno = input('Nome do aluno: ')\n",
        "\n",
        "  nota1 = float(input('Digite a primeira nota: '))\n",
        "  while(nota1 < 0) or (nota1 > 10):\n",
        "    nota1 = float(input('A nota precisa estar entre 0 e 10: '))\n",
        "\n",
        "  nota2 = float(input('Digite a segunda nota: '))\n",
        "  while(nota2 < 0) or (nota2 > 10):\n",
        "    nota2 = float(input('A nota precisa estar entre 0 e 10: '))\n",
        "\n",
        "  texto += str(i+1) + '- A média do aluno ' + nome_do_aluno + ' é '+ str((nota1+nota2)/2)+'\\n_________________________\\n'\n",
        "\n",
        "print(texto) \n"
      ],
      "metadata": {
        "id": "_76hhDNR54_m"
      },
      "execution_count": null,
      "outputs": []
    },
    {
      "cell_type": "markdown",
      "source": [
        "#### **6. Utilizando a estrutura de repetição for, faça um programa em Python que receba 10 números e conte quantos deles estão no intervalo [10,20] e quantos deles estão fora do intervalo, escrevendo estas informações.**"
      ],
      "metadata": {
        "id": "wvGL7-U10TUe"
      }
    },
    {
      "cell_type": "code",
      "source": [
        "no_intervalo=0\n",
        "fora_intervalo=0\n",
        "\n",
        "for i in range(10):\n",
        "  numero = int(input('Digite um número: '))\n",
        "  if(numero>=10) and (numero<=20):\n",
        "    no_intervalo+=1   \n",
        "  else:\n",
        "    fora_intervalo+=1\n",
        " \n",
        "print(f'A quantidade de números digitados que está no intervalo [10,20] é: {no_intervalo}')\n",
        "print(f'A quantidade de números fora do intervalo é: {fora_intervalo}')"
      ],
      "metadata": {
        "colab": {
          "base_uri": "https://localhost:8080/"
        },
        "id": "lz6GtSvV2dMP",
        "outputId": "85ee926f-0aa3-457e-811d-2cc9b9f856d2"
      },
      "execution_count": null,
      "outputs": [
        {
          "output_type": "stream",
          "name": "stdout",
          "text": [
            "Digite um número: 2\n",
            "Digite um número: 10\n",
            "1\n",
            "A quantidade de números digitados que está no intervalo [10,20] é: 1\n",
            "A quantidade de números fora do intervalo é: 1\n"
          ]
        }
      ]
    },
    {
      "cell_type": "markdown",
      "source": [
        "#### **7. Crie um programa em Python que leia N números (N digitado pelo usuário) e mostre na tela a soma de todos os números lidos.**"
      ],
      "metadata": {
        "id": "7eZ-jdDL0UhH"
      }
    },
    {
      "cell_type": "code",
      "source": [
        "qtd = int(input('Qual a quantidade de números você gostaria de digitar? '))\n",
        "soma=0\n",
        "for i in range(qtd):\n",
        "  numero = int(input(f'Digite o {i+1}º número: '))\n",
        "  soma+=numero\n",
        "\n",
        "print(f'A soma dos números digtados é: {soma}')\n"
      ],
      "metadata": {
        "id": "rsRu-nry3gCH"
      },
      "execution_count": null,
      "outputs": []
    }
  ]
}