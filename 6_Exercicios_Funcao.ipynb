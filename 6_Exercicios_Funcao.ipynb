{
  "nbformat": 4,
  "nbformat_minor": 0,
  "metadata": {
    "colab": {
      "provenance": [],
      "authorship_tag": "ABX9TyP45XneZeaHN/t7V5xMHHi5",
      "include_colab_link": true
    },
    "kernelspec": {
      "name": "python3",
      "display_name": "Python 3"
    },
    "language_info": {
      "name": "python"
    }
  },
  "cells": [
    {
      "cell_type": "markdown",
      "metadata": {
        "id": "view-in-github",
        "colab_type": "text"
      },
      "source": [
        "<a href=\"https://colab.research.google.com/github/ariana-caetano/estudos-em-Python/blob/main/6_Exercicios_Funcao.ipynb\" target=\"_parent\"><img src=\"https://colab.research.google.com/assets/colab-badge.svg\" alt=\"Open In Colab\"/></a>"
      ]
    },
    {
      "cell_type": "markdown",
      "source": [
        "#Lista de exercícios para praticar funções"
      ],
      "metadata": {
        "id": "TvsaiGx-rSUN"
      }
    },
    {
      "cell_type": "markdown",
      "source": [
        "1) Faça um programa, com uma função que necessite de três argumentos, e que forneça a multiplicação desses três argumentos.\n"
      ],
      "metadata": {
        "id": "dPqPuvdHPx8S"
      }
    },
    {
      "cell_type": "code",
      "source": [
        "def multiplicar(a,b,c):\n",
        "  return a*b*c"
      ],
      "metadata": {
        "id": "L-mAYo-hoLIA"
      },
      "execution_count": null,
      "outputs": []
    },
    {
      "cell_type": "code",
      "execution_count": null,
      "metadata": {
        "id": "nBUJ81b3PxRH"
      },
      "outputs": [],
      "source": [
        "def multiplicacao(num1, num2, num3):\n",
        "  return num1*num2*num3\n",
        "\n",
        "lista=[]\n",
        "for i in range(3):\n",
        "  numero = float(input(f'Digite o {i+1}º número: '))\n",
        "  lista.append(numero)\n",
        "\n",
        "print(f'O resultado da multiplicação é: {multiplicacao(lista[0], lista[1], lista[2])}')"
      ]
    },
    {
      "cell_type": "markdown",
      "source": [
        "\n",
        "2) Faça um programa que tenha uma função que necessite de um argumento que receba um número inteiro e imprima na tela a lista de divisores desse número.\n",
        "\n"
      ],
      "metadata": {
        "id": "R9ZWvL_WP_JK"
      }
    },
    {
      "cell_type": "code",
      "source": [
        "def divisores(numero):\n",
        "  lista_divisores = []\n",
        "  for i in range(1, numero+1):\n",
        "    if(numero % i == 0):\n",
        "      lista_divisores.append(i)\n",
        "  return lista_divisores\n",
        "\n",
        "# print(divisores(30))\n",
        "# print(divisores(10))\n",
        "# print(divisores(5))\n",
        "\n",
        "divisores(5)\n",
        "divisores(10)"
      ],
      "metadata": {
        "colab": {
          "base_uri": "https://localhost:8080/"
        },
        "id": "lXcV0lAQou2i",
        "outputId": "d20c9f29-a5bb-42f8-c94e-ba3e303d6a10"
      },
      "execution_count": null,
      "outputs": [
        {
          "output_type": "execute_result",
          "data": {
            "text/plain": [
              "[1, 2, 5, 10]"
            ]
          },
          "metadata": {},
          "execution_count": 6
        }
      ]
    },
    {
      "cell_type": "code",
      "source": [
        "def lista_divisores(numero):\n",
        "  lista=[]  \n",
        "  for i in range(1,numero+1):\n",
        "    if (numero % i==0):\n",
        "      lista.append(i)\n",
        "  return lista\n",
        "\n",
        "lista =[]  \n",
        "numero = int(input('Digite um número inteiro: '))\n",
        "while(numero<=0):\n",
        "  numero = int(input('Digite um número inteiro maior que 0: '))\n",
        "\n",
        "lista = lista_divisores(numero) \n",
        "\n",
        "print(f'A lista dos divisores de {numero} é')\n",
        "for i in lista:\n",
        "  print(i) "
      ],
      "metadata": {
        "id": "pS6W-2RqQU6y"
      },
      "execution_count": null,
      "outputs": []
    },
    {
      "cell_type": "markdown",
      "source": [
        "3) Faça um programa que receba 3 notas por parâmetros, calcule a media e retorne o valor da média para o programa principal. Em seguida, verifique se o aluno foi aprovado por média. (Média >= 7)\n",
        "\n"
      ],
      "metadata": {
        "id": "64W8mBsHQB66"
      }
    },
    {
      "cell_type": "code",
      "source": [
        "def calcular_media(nota1, nota2, nota3):\n",
        "  media = (nota1+nota2+nota3)/3\n",
        "  return media\n",
        "\n",
        "lista_notas=[]\n",
        "for i in range(3):\n",
        "  nota = float(input(f'Digite a {i+1}ª nota: '))\n",
        "  while(nota<0):\n",
        "    nota = float(input(f'Digite a {i+1}ª nota: '))\n",
        "  lista_notas.append(nota)\n",
        "  \n",
        "media=(calcular_media(lista_notas[0], lista_notas[1], lista_notas[2]))\n",
        "\n",
        "if(media>=7.0):\n",
        "  print(f'O aluno foi aprovado, sua média é {media:.2f}')\n",
        "else:\n",
        "  print(f'O aluno foi reprovado, sua média é {media:.2f}')"
      ],
      "metadata": {
        "id": "WsMZczYuQUOD"
      },
      "execution_count": null,
      "outputs": []
    },
    {
      "cell_type": "markdown",
      "source": [
        "4) 4) Faça uma função que recebe, por parâmetro, a altura (alt) e o sexo de uma pessoa e retorna o seu peso ideal. Para homens, calcular o peso ideal usando a fórmula peso ideal = 72.7 x alt - 58 e, para mulheres, peso ideal = 62.1 x alt - 44.7.\n",
        "\n"
      ],
      "metadata": {
        "id": "LjQknqO0QD8a"
      }
    },
    {
      "cell_type": "code",
      "source": [
        "def calcular_peso_ideal(alt,sexo):\n",
        "  if(sexo.lower() == \"masculino\"):\n",
        "    peso_ideal = 72.7 * alt - 58\n",
        "  else:\n",
        "    peso_ideal = 62.1 * alt - 44.7\n",
        "  return peso_ideal\n",
        "\n",
        "altura = float(input('Digite a altura: '))\n",
        "while(altura<=0):\n",
        "  altura = int(input('A altura precisa ser maior que 0: '))\n",
        "\n",
        "sexo = input('Digite o sexo (masculino ou feminino): ')\n",
        "while(sexo.lower()!=\"masculino\") and (sexo.lower()!=\"feminino\"):\n",
        "  sexo = input('Digite o sexo (masculino ou feminino): ')\n",
        "\n",
        "print(f'Seu peso ideal é: {calcular_peso_ideal(altura, sexo):.2f}kg')"
      ],
      "metadata": {
        "id": "KRoUj7tQQTgx"
      },
      "execution_count": null,
      "outputs": []
    },
    {
      "cell_type": "markdown",
      "source": [
        "(5) Faça um programa que leia um número n e imprima a seguinte saída na tela:\n",
        "\n",
        "1 2 2 3 3 3 4 4 4 4 5 5 5 5 5 n n n n n ...... n\n",
        "\n"
      ],
      "metadata": {
        "id": "kB6YB4YCQGcB"
      }
    },
    {
      "cell_type": "code",
      "source": [
        "#resolução 1\n",
        "def sequencia_numeros(numero):\n",
        "  sequencia=\"\"\n",
        "  for i in range(1,numero+1):\n",
        "    sequencia+=str(i)*i\n",
        "  return sequencia\n",
        "\n",
        "numero = int(input('Digite um número inteiro: '))\n",
        "while(numero<=0):\n",
        "  numero = int(input('Digite um número inteiro maior que 0: '))\n",
        "\n",
        "sequencia_numeros(numero)"
      ],
      "metadata": {
        "id": "aG5T1OHOQS5a"
      },
      "execution_count": null,
      "outputs": []
    },
    {
      "cell_type": "code",
      "source": [
        "#resolução 2\n",
        "def sequencia_numeros_v2(numero):\n",
        "  for i in range(1,numero+1):\n",
        "    for j in range(i):\n",
        "      print(i, end=' ')\n",
        "    print('')\n",
        "\n",
        "sequencia_numeros_v2(5)"
      ],
      "metadata": {
        "colab": {
          "base_uri": "https://localhost:8080/"
        },
        "id": "1JL2Ute8wrxg",
        "outputId": "6850d0a4-524d-4d4d-8c14-7fb2bcb9c887"
      },
      "execution_count": null,
      "outputs": [
        {
          "output_type": "stream",
          "name": "stdout",
          "text": [
            "1 \n",
            "2 2 \n",
            "3 3 3 \n",
            "4 4 4 4 \n",
            "5 5 5 5 5 \n"
          ]
        }
      ]
    },
    {
      "cell_type": "markdown",
      "source": [
        "(6) Faça um programa que leia um número n e imprima a seguinte saída na tela:\n",
        "\n",
        "1 1 2 1 2 3 1 2 3 4 1 2 3 4 5 n n n n n ...... n\n",
        "\n"
      ],
      "metadata": {
        "id": "6Z_Xv7l5QI1x"
      }
    },
    {
      "cell_type": "code",
      "source": [
        "#resolução 1\n",
        "def sequencia_numeros2(numero):\n",
        "  sequencia=\"\"\n",
        "  for i in range(1,numero+1):\n",
        "    lista=[]\n",
        "    for j in range(1, i+1):\n",
        "      sequencia+=str(j)\n",
        "  return sequencia\n",
        "\n",
        "numero = int(input('Digite um número inteiro: '))\n",
        "while(numero<=0):\n",
        "  numero = int(input('Digite um número inteiro maior que 0: '))\n",
        "\n",
        "sequencia_numeros2(numero)"
      ],
      "metadata": {
        "id": "CXHgMauFQQdz"
      },
      "execution_count": null,
      "outputs": []
    },
    {
      "cell_type": "code",
      "source": [
        "#resolução 2\n",
        "def sequencia_numeros_v2_2(numero):\n",
        "  for i in range(1,numero+1):\n",
        "    for j in range(1, i+1):\n",
        "      print(j, end=' ')\n",
        "    print('')\n",
        "\n",
        "sequencia_numeros_v2_2(5)"
      ],
      "metadata": {
        "colab": {
          "base_uri": "https://localhost:8080/"
        },
        "id": "ORXAGCnKp_UH",
        "outputId": "3728e3f2-0c99-4432-edeb-36544817f8da"
      },
      "execution_count": null,
      "outputs": [
        {
          "output_type": "stream",
          "name": "stdout",
          "text": [
            "1 \n",
            "1 2 \n",
            "1 2 3 \n",
            "1 2 3 4 \n",
            "1 2 3 4 5 \n"
          ]
        }
      ]
    },
    {
      "cell_type": "markdown",
      "source": [
        "(7) Faça um programa que use a função valorPagamento para determinar o valor a ser pago por uma prestação de uma conta. O programa deverá solicitar ao usuário o valor da prestação e o número de dias em atraso e passar estes valores para a função valorPagamento, que calculará o valor a ser pago e devolverá este valor ao programa que a chamou. O programa deverá então exibir o valor a ser pago na tela. Após a execução o programa deverá voltar a pedir outro valor de prestação e assim continuar até que seja informado um valor igual a zero para a prestação. Neste momento o programa deverá ser encerrado, exibindo o relatório do dia, que conterá a quantidade e o valor total de prestações pagas no dia. O cálculo do valor a ser pago é feito da seguinte forma. Para pagamentos sem atraso, cobrar o valor da prestação. Quando houver atraso, cobrar 3% de multa, mais 0,1% de juros por dia de atraso."
      ],
      "metadata": {
        "id": "FuI1AGyVQN_i"
      }
    },
    {
      "cell_type": "code",
      "source": [
        "#resolução 1 juros simples\n",
        "def valor_pagamento(valor, atraso):\n",
        "  if atraso==0:\n",
        "    return valor\n",
        "  else:\n",
        "    multa = valor*0.03\n",
        "    multa_dias= valor*(atraso*0.001)\n",
        "    valor_atualizado = valor + multa + multa_dias\n",
        "    return valor_atualizado\n",
        "\n",
        "valor_atualizado=[]\n",
        "while(True):\n",
        "  valor = float(input('Digite o valor da prestação: '))\n",
        "  if(valor==0):\n",
        "    break\n",
        "  else:\n",
        "    atraso = int(input('Digite a quantidade de dias em atraso: '))\n",
        "    valor_atualizado.append(valor_pagamento(valor, atraso))   \n",
        "\n",
        "print('As prestações pagas no dia de hoje foram:\\n')\n",
        "num_prestacoes=1\n",
        "for i in valor_atualizado:\n",
        "  print(f'{num_prestacoes} - R$ {i:.2f}')\n",
        "  num_prestacoes+=1\n",
        "\n",
        "print(f'\\n Ao todo foram pagas: {len(valor_atualizado)} prestações, totalizando R$ {sum(valor_atualizado):.2f}')"
      ],
      "metadata": {
        "id": "ivY7hSdRQR3S"
      },
      "execution_count": null,
      "outputs": []
    },
    {
      "cell_type": "code",
      "source": [
        "#resolução 2 juros compostos\n",
        "\n",
        "def valor_pagamento_juros_compostos(valor, atraso):\n",
        "  if atraso==0:\n",
        "    return valor\n",
        "  else:\n",
        "    multa = valor*0.03\n",
        "    valor= valor+ multa\n",
        "\n",
        "    # fórmula juros composto \"M = C (1 + i)t\"\n",
        "    valor_atualizado = valor*(1 + 0.001)**atraso\n",
        "    return valor_atualizado\n",
        "\n",
        "valor_atualizado=[]\n",
        "while(True):\n",
        "  valor = float(input('Digite o valor da prestação: '))\n",
        "  if(valor==0):\n",
        "    break\n",
        "  else:\n",
        "    atraso = int(input('Digite a quantidade de dias em atraso: '))\n",
        "    valor_atualizado.append(valor_pagamento_juros_compostos(valor, atraso))   \n",
        "\n",
        "print('\\nAs prestações pagas no dia de hoje foram:\\n')\n",
        "num_prestacoes=1\n",
        "for i in valor_atualizado:\n",
        "  print(f'{num_prestacoes} - R$ {i:.2f}')\n",
        "  num_prestacoes+=1\n",
        "\n",
        "print(f'\\n Ao todo foram pagas: {len(valor_atualizado)} prestações, totalizando R$ {sum(valor_atualizado):.2f}')"
      ],
      "metadata": {
        "id": "zrFm7UZAtofg"
      },
      "execution_count": null,
      "outputs": []
    }
  ]
}