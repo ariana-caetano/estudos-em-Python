{
  "nbformat": 4,
  "nbformat_minor": 0,
  "metadata": {
    "colab": {
      "provenance": [],
      "authorship_tag": "ABX9TyN54x7GoO2EzfnRUw3dSNX8",
      "include_colab_link": true
    },
    "kernelspec": {
      "name": "python3",
      "display_name": "Python 3"
    },
    "language_info": {
      "name": "python"
    }
  },
  "cells": [
    {
      "cell_type": "markdown",
      "metadata": {
        "id": "view-in-github",
        "colab_type": "text"
      },
      "source": [
        "<a href=\"https://colab.research.google.com/github/ariana-caetano/estudos-em-Python/blob/main/9_ListaExercicio.ipynb\" target=\"_parent\"><img src=\"https://colab.research.google.com/assets/colab-badge.svg\" alt=\"Open In Colab\"/></a>"
      ]
    },
    {
      "cell_type": "markdown",
      "source": [
        "1) As maçãs custam R$ 0,30 cada se forem compradas menos do que uma dúzia,e R 0,25 se forem compradas pelo menos doze. Escreva um programa que leia o número de maçãs compradas, calcule e escreva o valor total da compra.\n",
        "\n"
      ],
      "metadata": {
        "id": "-nthoHeLofKs"
      }
    },
    {
      "cell_type": "code",
      "execution_count": null,
      "metadata": {
        "colab": {
          "base_uri": "https://localhost:8080/"
        },
        "id": "CMMrXEADoeoF",
        "outputId": "f5be19ac-c29b-439e-adde-30ee227688cb"
      },
      "outputs": [
        {
          "output_type": "stream",
          "name": "stdout",
          "text": [
            "Digite a quantidade de maças: -1\n",
            "Digite a quantidade de maças: -5\n",
            "Digite a quantidade de maças: 0\n",
            "O valor toral da compra é de R$ 0.00\n"
          ]
        }
      ],
      "source": [
        "qtd_macas = int(input('Digite a quantidade de maças: '))\n",
        "while(qtd_macas<=0):\n",
        "  qtd_macas = int(input('Digite uma quantidade de maças maior que 0: '))\n",
        "\n",
        "if(qtd_macas) < 12:\n",
        "  valor = qtd_macas * 0.3\n",
        "else:\n",
        "  valor = qtd_macas * 0.25\n",
        "\n",
        "print(f'O valor toral da compra é de R$ {valor:.2f}')"
      ]
    },
    {
      "cell_type": "markdown",
      "source": [
        "2) Escreva um programa para ler 3 valores inteiros (considere que não serão lidos valores iguais) e escrevê-los em ordem crescente.\n",
        "\n"
      ],
      "metadata": {
        "id": "VUDDIgsAokoV"
      }
    },
    {
      "cell_type": "code",
      "source": [
        "lista_numeros= []\n",
        "\n",
        "for i in range(3):\n",
        "  numero = int(input(f'Digite o {i+1}º número: '))\n",
        "  lista_numeros.append(numero)\n",
        "\n",
        "lista_numeros.sort()\n",
        "\n",
        "for i in lista_numeros:\n",
        "  print(i, end=' ')\n"
      ],
      "metadata": {
        "id": "qs4AdumUq_u0"
      },
      "execution_count": null,
      "outputs": []
    },
    {
      "cell_type": "markdown",
      "source": [
        "3) Escreva um programa para ler 20 valores inteiros e escrever o maior deles. Considere que o usuário não informará valores iguais.\n",
        "\n"
      ],
      "metadata": {
        "id": "ilsPa5Jsom3y"
      }
    },
    {
      "cell_type": "code",
      "source": [
        "lista_numeros= []\n",
        "\n",
        "for i in range(20):\n",
        "  numero = int(input(f'Digite o {i+1}º número: '))\n",
        "  lista_numeros.append(numero)\n",
        "\n",
        "print(f'O maior número digitado foi: {max(lista_numeros)}')"
      ],
      "metadata": {
        "id": "R9oB1qvtsoNL"
      },
      "execution_count": null,
      "outputs": []
    },
    {
      "cell_type": "markdown",
      "source": [
        "4) Faça um programa que peça ao usuário um número entre 12 e 20. Se a pessoa digitar um número diferente, mostrar a mensagem \"entrada inválida\" e solicitar o número novamente. Se digitar correto mostrar o número digitado.\n",
        "\n"
      ],
      "metadata": {
        "id": "YCJlfC-topFi"
      }
    },
    {
      "cell_type": "code",
      "source": [
        "numero = int(input(f'Digite um número: '))\n",
        "while(numero < 12) or (numero > 20):\n",
        "  print('Entrada inválida')\n",
        "  numero = int(input(f'Digite um número: '))\n",
        "\n",
        "print(f'Número digitado foi {numero}')"
      ],
      "metadata": {
        "id": "DY-iyTIutT78"
      },
      "execution_count": null,
      "outputs": []
    },
    {
      "cell_type": "markdown",
      "source": [
        "5) Crie um programa que leia um número do teclado até que encontre um número igual a zero. No final, mostre a soma dos números digitados\n",
        "\n"
      ],
      "metadata": {
        "id": "NkosFACoorPj"
      }
    },
    {
      "cell_type": "code",
      "source": [
        "soma_numero = 0\n",
        "while(True):\n",
        "  numero = float(input('Digite um número: '))\n",
        "  if(numero==0):\n",
        "    break\n",
        "  else:\n",
        "    soma_numero += numero\n",
        "  \n",
        "print(f'A soma dos números digitados é: {soma_numero}')"
      ],
      "metadata": {
        "colab": {
          "base_uri": "https://localhost:8080/"
        },
        "id": "h2qNR_IAuVVs",
        "outputId": "0424a919-08e3-4b8c-9ec1-c2de45281e43"
      },
      "execution_count": null,
      "outputs": [
        {
          "output_type": "stream",
          "name": "stdout",
          "text": [
            "Digite um número: 1\n",
            "Digite um número: 6\n",
            "Digite um número: 2\n",
            "Digite um número: 1\n",
            "Digite um número: 0\n",
            "A soma dos números digitados é: 10.0\n"
          ]
        }
      ]
    },
    {
      "cell_type": "markdown",
      "source": [
        "6) Faça um programa que receba dois números inteiros e gere os números inteiros que estão no intervalo compreendido por eles.\n",
        "\n"
      ],
      "metadata": {
        "id": "zmnb2AyCotIy"
      }
    },
    {
      "cell_type": "code",
      "source": [
        "numero1 = int(input(f'Digite o primeiro número: '))\n",
        "numero2 = int(input(f'Digite o segundo número: '))\n",
        "\n",
        "print(f'Os números inteiros entre {numero1} e {numero2} são:')\n",
        "\n",
        "if(numero1 < numero2):\n",
        "  for i in range(numero1+1, numero2):\n",
        "    print(i, end=' ') \n",
        "else:\n",
        "  for i in range(numero1-1, numero2, -1):\n",
        "    print(i, end=' ')  "
      ],
      "metadata": {
        "id": "iSZztpBIvMG7"
      },
      "execution_count": null,
      "outputs": []
    },
    {
      "cell_type": "markdown",
      "source": [
        "7) Foi feita uma pesquisa entre os habitantes de uma região. Foram coletados os dados de idade, sexo (M/F) e salário. Faça um programa que calcule e mostre:\n",
        "\n",
        "a) A média dos salários do grupo; b) A maior e a menor idade do grupo; c) A quantidade de mulheres na região; d) A idade e o sexo da pessoa que possui o menor salário;\n",
        "\n",
        "Finalize a entrada de dados ao ser digitada uma idade negativa.\n",
        "\n"
      ],
      "metadata": {
        "id": "SCuI-dlzovw8"
      }
    },
    {
      "cell_type": "code",
      "source": [
        "def calcula_media_salarial(lista_salario):\n",
        "  media_salarial=sum(lista_salario)/len(lista_salario)\n",
        "  return media_salarial\n",
        "\n",
        "def maior_e_menor_idade(lista_idade, maior):\n",
        "  if maior == True:\n",
        "    return max(lista_idade)\n",
        "  else:\n",
        "    return min(lista_idade)\n",
        "\n",
        "\n",
        "lista_sexo = []\n",
        "lista_idade = []\n",
        "lista_salario = []\n",
        "contador_mulheres = 0\n",
        "\n",
        "while(True):\n",
        "  idade = int(input('Digite a idade: '))\n",
        "  if(idade < 0):\n",
        "    break\n",
        "  else:\n",
        "    lista_idade.append(idade)\n",
        "\n",
        "    sexo = input('Digite o sexo (M - masculino ou F - feminino): ')\n",
        "    while(sexo.lower()!=\"m\") and (sexo.lower()!=\"f\"):\n",
        "      sexo = input('Digite o sexo (M - masculino ou F - feminino): ')\n",
        "    \n",
        "    if(sexo.lower()=='f'):\n",
        "      contador_mulheres+=1\n",
        "\n",
        "    salario = float(input('Digite o salário: '))\n",
        "    while(salario <0):\n",
        "      salario = float(input('Digite o salário: '))\n",
        "    \n",
        "    lista_sexo.append(sexo)\n",
        "    lista_salario.append(salario)\n",
        "\n",
        "menor_salario = min(lista_salario)\n",
        "i = lista_salario.index(menor_salario)\n",
        "idade_menor_salario = lista_idade[i]\n",
        "sexo_menor_salario = lista_sexo[i]\n",
        "\n",
        "media_salario = calcula_media_salarial(lista_salario)\n",
        "maior_idade = maior_e_menor_idade(lista_idade, True)\n",
        "menor_idade = maior_e_menor_idade(lista_idade, False)\n",
        "\n",
        "print(f'\\nA média dos salários do grupo é {media_salario:.2f}')\n",
        "print(f'A maior idade do grupo é: {maior_idade}, e a menor idade do grupo é {menor_idade}')\n",
        "print(f'A quantidade de mulheres na região é {contador_mulheres}')\n",
        "print(f'A pessoa com menor salário tem {idade_menor_salario} anos é do sexo {sexo_menor_salario} e seu salário é de {menor_salario:.2f}')\n",
        "\n"
      ],
      "metadata": {
        "id": "HGkkzRmA3gaG"
      },
      "execution_count": null,
      "outputs": []
    },
    {
      "cell_type": "markdown",
      "source": [
        "8) Faça um programa que peça para n pessoas a sua idade, ao final o programa deverá verificar se a média de idade da turma varia entre 0 e 25,26 e 60 e maior que 60; e então, dizer se a turma é jovem, adulta ou idosa, conforme a média calculada\n",
        "\n"
      ],
      "metadata": {
        "id": "DC5op80VoyXM"
      }
    },
    {
      "cell_type": "code",
      "source": [
        "soma_idade=0\n",
        "lista_idade=[]\n",
        "while(True):\n",
        "  idade = int(input('Digite a idade: '))\n",
        "  if(idade < 0):\n",
        "    break\n",
        "  else:\n",
        "    lista_idade.append(idade)\n",
        "    soma_idade += idade\n",
        "\n",
        "\n",
        "media_idade = soma_idade/len(lista_idade) \n",
        "\n",
        "if(media_idade>0)and(media_idade<=25):\n",
        "  print('A turma é jovem')\n",
        "elif(media_idade>25)and(media_idade<=60):\n",
        "  print('A turma é adulta')\n",
        "else:\n",
        "  print('A turma é idosa')"
      ],
      "metadata": {
        "id": "RHbIwmy76jku"
      },
      "execution_count": null,
      "outputs": []
    },
    {
      "cell_type": "markdown",
      "source": [
        "9) Faça um Programa que leia uma lista de 10 caracteres, e diga quantas consoantes foram lidas. Imprima as consoantes.\n",
        "\n"
      ],
      "metadata": {
        "id": "gUmdBwKCo0iL"
      }
    },
    {
      "cell_type": "code",
      "source": [
        "def vogal_ou_consoante(letras):\n",
        "  lista_consoantes =[]\n",
        "  for i in letras:\n",
        "    if i.lower() in ('b', 'c', 'd', 'f', 'g', 'h', 'j', 'k', 'l', 'm', 'n', 'p', 'q', 'r', 's', 't', 'v', 'w', 'x', 'y', 'z'):\n",
        "      lista_consoantes.append(i)\n",
        "  return lista_consoantes\n",
        "\n",
        "lista_caracteres= []\n",
        "\n",
        "for i in range(10):\n",
        "  caracter = input(f'Digite o {i+1}º caracter: ')\n",
        "  while(len(caracter) != 1):\n",
        "    caracter = input(f'Digite o {i+1}º caracter: ')\n",
        "  \n",
        "  lista_caracteres.append(caracter)\n",
        "\n",
        "lista_consoantes = vogal_ou_consoante(lista_caracteres) \n",
        "\n",
        "if(len(lista_consoantes)==0):\n",
        "  print('Não foram digitadas consoantes')\n",
        "else:\n",
        "  print(f'A lista de consonates é: {lista_consoantes}')\n"
      ],
      "metadata": {
        "id": "kwnyR2Uw_ozN"
      },
      "execution_count": null,
      "outputs": []
    },
    {
      "cell_type": "markdown",
      "source": [
        "10) Faça um Programa que leia dois lista com 10 elementos cada. Gere um terceiro lista de 20 elementos, cujos valores deverão ser compostos pelos elementos intercalados das duas outras listas."
      ],
      "metadata": {
        "id": "zvvBIuj3o2Gi"
      }
    },
    {
      "cell_type": "code",
      "source": [
        "lista1 = []\n",
        "lista2 = []\n",
        "\n",
        "for i in range(10):\n",
        "  lista1.append(input(f'Digite o {i+1}º da lista 1: '))\n",
        "  lista2.append(input(f'Digite o {i+1}º da lista 2: '))\n",
        "\n",
        "lista_completa = []\n",
        "\n",
        "for i in range(len(lista1)):\n",
        "  lista_completa.append(lista1[i])\n",
        "  lista_completa.append(lista2[i])\n",
        "\n",
        "print(lista_completa)"
      ],
      "metadata": {
        "id": "6By1KtrxCmx_"
      },
      "execution_count": null,
      "outputs": []
    }
  ]
}